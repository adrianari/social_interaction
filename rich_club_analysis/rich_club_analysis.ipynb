{
 "cells": [
  {
   "cell_type": "markdown",
   "metadata": {},
   "source": [
    "# Rich Club Algorithm"
   ]
  },
  {
   "cell_type": "markdown",
   "metadata": {},
   "source": [
    "## Data Preparation"
   ]
  },
  {
   "cell_type": "markdown",
   "metadata": {},
   "source": [
    "Packages"
   ]
  },
  {
   "cell_type": "code",
   "execution_count": null,
   "metadata": {},
   "outputs": [],
   "source": [
    "import networkx as nx\n",
    "import pandas as pd\n",
    "import matplotlib.pyplot as plt\n",
    "import numpy as np"
   ]
  },
  {
   "cell_type": "markdown",
   "metadata": {},
   "source": [
    "Read data and bring into a fromat that can be transformed into a graph"
   ]
  },
  {
   "cell_type": "code",
   "execution_count": null,
   "metadata": {},
   "outputs": [],
   "source": [
    "with open(\"data/followers_complete.csv\") as file:\n",
    "    lines = list(file)\n",
    "    lines = [line.rstrip('\\n') for line in lines]\n",
    "    data = [tuple(line.split(\",\")) for line in lines]"
   ]
  },
  {
   "cell_type": "markdown",
   "metadata": {},
   "source": [
    "Check"
   ]
  },
  {
   "cell_type": "code",
   "execution_count": null,
   "metadata": {},
   "outputs": [],
   "source": [
    "data[:5]"
   ]
  },
  {
   "cell_type": "markdown",
   "metadata": {},
   "source": [
    "Create empty graph `G`"
   ]
  },
  {
   "cell_type": "code",
   "execution_count": null,
   "metadata": {},
   "outputs": [],
   "source": [
    "G = nx.Graph()"
   ]
  },
  {
   "cell_type": "markdown",
   "metadata": {},
   "source": [
    "Add nodes from `data` list of tuples and check if number of nodes is correct"
   ]
  },
  {
   "cell_type": "code",
   "execution_count": null,
   "metadata": {},
   "outputs": [],
   "source": [
    "G.add_nodes_from(d[0] for d in data)\n",
    "G.number_of_nodes()"
   ]
  },
  {
   "cell_type": "markdown",
   "metadata": {},
   "source": [
    "Add edges from `data` list of tuples and check number of edges"
   ]
  },
  {
   "cell_type": "code",
   "execution_count": null,
   "metadata": {},
   "outputs": [],
   "source": [
    "G.add_edges_from(data)\n",
    "G.number_of_edges()"
   ]
  },
  {
   "cell_type": "markdown",
   "metadata": {},
   "source": [
    "## Theory\n",
    "\n",
    "Highly connected nodes are \"hubs\", but how are these highly connected hubs connected to **each other**? $\\rightarrow$ the node is important, how is it connected to other important nodes?\n",
    "\n",
    "Answer: **rich club properties** of a graph $\\rightarrow$ richness of a specific node.\n",
    "\n",
    "* Start with an unweighted Graph `G`\n",
    "* The **richest nodes** are defined as the densely connected nodes in the graph which points to an **interlinked core of high degree nodes**. These cores are hubs in the network, but at the same time extremely highly interconnected.\n",
    "\n",
    "Definition of the **rich club coefficient**:\n",
    "We can define the rich club coefficient $\\Phi(k)$ of a Graph $G$ at a level $k$ or at a degree $k$ as the **proportion of the number of edges at nodes of degree** $>k$ (strictly larger than $k$) divided by the total number of edges in the undirected subgraph:\n",
    "\n",
    "$$\n",
    "\\Phi(k) = \\frac{2E_{>k}}{N_{>k}(N_{>k}-1)}\n",
    "$$\n",
    "\n",
    "If you look a subgraph and you want to compute the rich club coefficient of this subgraph, you look at the number of edges at nodes of degree $>k$ (you count the number of edges that are connected to edges with degrees $>k$) and divide them by the total number of total edges in this subgraph.\n",
    "\n",
    "* If $\\Phi(k) = 0$, there are no edges of nodes with degree $>k$. $k$ here is a *cut-off value of richness* where richness is defined in terms of degree. \n",
    "* $\\Phi(k)$ (richnessness in terms of degree) quantifies the connectivity between the richest nodes in a graph for a given level of $k$ of that graph. It tells us how rich the nodes in that subgraph are."
   ]
  },
  {
   "cell_type": "markdown",
   "metadata": {},
   "source": [
    "When using the rich club algorithm implementation in `NetworkX`, it returns a **dictionary, keyed by degree, with rich-club coefficient values**.\n",
    "\n",
    "In graph theory, the **degree** is the number of edges that are **incident** to the node. A node is **incident** to an edge if the node is one of the two nodes connected by the edge. The **maximum degree** of a graph $G$, denoted by $\\Delta(G)$, and the **minimum degree** of a graph, denoted by $\\delta(G)$, are the maximum and minimum degree of its nodes. In the graph below, the nodes are labelled by degree.\n",
    "\n",
    "* $\\Delta(G) = 5$ (in a multigraph, loops are counted twice).\n",
    "* $\\delta(G) = 0$\n",
    "\n",
    "<img src=\"data/degrees.png\"></img>\n",
    "\n",
    "In more simple terms, the degree of a graph node $v$ of a graph $G$ is **the number of graph edges which touch** $v$.\n",
    "\n",
    "\n",
    "**Sources**:\n",
    "\n",
    "* https://www.youtube.com/watch?v=Z_O-q10MXuY\n",
    "* https://en.wikipedia.org/wiki/Rich-club_coefficient#:~:text=The%20rich%2Dclub%20coefficient%20is,between%20nodes%20of%20high%20degree.\n",
    "* https://de.wikipedia.org/wiki/Teilgraph\n",
    "* https://en.wikipedia.org/wiki/Degree_(graph_theory)\n",
    "* https://mathworld.wolfram.com/VertexDegree.html\n",
    "* https://en.wikipedia.org/wiki/Incidence_(graph)\n",
    "* https://networkx.org/documentation/stable/reference/algorithms/generated/networkx.algorithms.richclub.rich_club_coefficient.html#networkx.algorithms.richclub.rich_club_coefficient"
   ]
  },
  {
   "cell_type": "markdown",
   "metadata": {},
   "source": [
    "## Practice\n",
    "\n",
    "Now we check the rich club coefficients:"
   ]
  },
  {
   "cell_type": "code",
   "execution_count": null,
   "metadata": {},
   "outputs": [],
   "source": [
    "rc = nx.rich_club_coefficient(G, normalized = False, seed = 42)\n",
    "rc"
   ]
  },
  {
   "cell_type": "markdown",
   "metadata": {},
   "source": [
    "According to the `NetworkX` documentation, this dictionary shows the rich-club coefficient values, **keyed by degree**. Therefore, we check the degrees of the nodes in the network:"
   ]
  },
  {
   "cell_type": "code",
   "execution_count": null,
   "metadata": {},
   "outputs": [],
   "source": [
    "degrees = list(G.degree)\n",
    "sorted(degrees, key = lambda x: x[1], reverse = True)"
   ]
  },
  {
   "cell_type": "markdown",
   "metadata": {},
   "source": [
    "Let's create a few plots. First the `rcc` dict, i.e. the rich club coefficients against the degrees:"
   ]
  },
  {
   "cell_type": "code",
   "execution_count": null,
   "metadata": {},
   "outputs": [],
   "source": [
    "lists = sorted(rc.items())\n",
    "x, y = zip(*lists)\n",
    "\n",
    "plt.figure(figsize=(22,16))\n",
    "plt.plot(x, y, label = \"Rich Club Coefficient\")\n",
    "plt.title(r\"Evolution of the Rich Club Coefficient\", fontsize = 22)\n",
    "plt.xlabel(\"Node Degree\", fontsize = 15)\n",
    "plt.ylabel(\"$\\Phi(k)$\", fontsize = 15)\n",
    "plt.legend(loc=\"upper left\", fontsize = 15)\n",
    "plt.grid(True, linestyle = \":\")\n",
    "\n",
    "# plt.savefig(\"img/RCC_Trump_Network.png\")"
   ]
  },
  {
   "cell_type": "markdown",
   "metadata": {},
   "source": [
    "The Rich Club Coefficient seems very high, even for nodes with Node Degree 0. Supposedly, this is because all the nodes in the network are connected somehow and there is no single node with node degree 0. Let's plot a histogram of the friends of all the accounts:"
   ]
  },
  {
   "cell_type": "code",
   "execution_count": null,
   "metadata": {},
   "outputs": [],
   "source": [
    "# Prepare data (convert to numpy array):\n",
    "friends = []\n",
    "for d in degrees:\n",
    "    friends.append(d[1])\n",
    "friends_array = np.array(friends)"
   ]
  },
  {
   "cell_type": "code",
   "execution_count": null,
   "metadata": {},
   "outputs": [],
   "source": [
    "### Create Plot:\n",
    "plt.figure(figsize=(22,16))\n",
    "plt.hist(friends_array, rwidth = 0.95, bins = len(np.unique(friends_array)))\n",
    "plt.title(\"Distribution of Node Degrees\", fontsize = 22)\n",
    "plt.xlabel(\"Node Degree\", fontsize = 15)\n",
    "plt.ylabel(\"Number of Accounts\", fontsize = 15)\n",
    "plt.minorticks_on()\n",
    "plt.grid(True, which = \"major\", linestyle = \"-\")\n",
    "# plt.grid(True, which = \"minor\", linestyle = \":\")\n",
    "\n",
    "# plt.savefig(\"img/Node_Degrees_vs_Accounts.png\")"
   ]
  },
  {
   "cell_type": "markdown",
   "metadata": {},
   "source": [
    "Let's further inspect a few elements of the list of degrees: \n",
    "\n",
    "* The node `TomFitton`, according to the node degree, this node should have the most edges (95 edges).\n",
    "* The node `NHC_Atlantic` should have the fewest edges with 7\n",
    "* The node `realDonaldTrump` should have 84 edges."
   ]
  },
  {
   "cell_type": "code",
   "execution_count": null,
   "metadata": {},
   "outputs": [],
   "source": [
    "len(list(G.edges(\"TomFitton\"))) == 95"
   ]
  },
  {
   "cell_type": "code",
   "execution_count": null,
   "metadata": {},
   "outputs": [],
   "source": [
    "len(list(G.edges(\"NHC_Atlantic\"))) == 7"
   ]
  },
  {
   "cell_type": "code",
   "execution_count": null,
   "metadata": {},
   "outputs": [],
   "source": [
    "len(list(G.edges(\"realDonaldTrump\"))) == 84"
   ]
  },
  {
   "cell_type": "markdown",
   "metadata": {},
   "source": [
    "All of these hold true. Now, we assign the rich club coefficients to the corresponding nodes. The following function creates a dictionary with the account name and the corresponding RC values based on the node degree of each account."
   ]
  },
  {
   "cell_type": "code",
   "execution_count": null,
   "metadata": {},
   "outputs": [],
   "source": [
    "def rc_to_account(degrees):\n",
    "    new = {}\n",
    "\n",
    "    for i in degrees:\n",
    "        element = {i[0]: i[1]}\n",
    "        new.update(element)\n",
    "    \n",
    "    for key, value in new.items():\n",
    "        deg = value\n",
    "        for degree, rc_coef in rc.items():\n",
    "            if deg == degree:\n",
    "                new[key] = rc_coef\n",
    "            elif deg >= 94:\n",
    "                new[key] = 1.0\n",
    "        \n",
    "    return new"
   ]
  },
  {
   "cell_type": "code",
   "execution_count": null,
   "metadata": {},
   "outputs": [],
   "source": [
    "rc_accounts = rc_to_account(degrees)\n",
    "# rc_accounts"
   ]
  },
  {
   "cell_type": "markdown",
   "metadata": {},
   "source": [
    "Let's plot a histogram like the one for Node Degrees, but for the RCC coefficients.\n",
    "\n",
    "First, transform the `rc_accounts` dict into a list of tuples which can then be transformed to a Numpy array:"
   ]
  },
  {
   "cell_type": "code",
   "execution_count": null,
   "metadata": {},
   "outputs": [],
   "source": [
    "# Create List of Tupels\n",
    "rcc_list_of_tupels = []\n",
    "\n",
    "for key, value in rc_accounts.items():\n",
    "    rcc_list_of_tupels.append((key, value))\n",
    "\n",
    "# Create Numpy Array\n",
    "rcc_hist = []\n",
    "\n",
    "for r in rcc_list_of_tupels:\n",
    "    rcc_hist.append(r[1])\n",
    "rcc_hist_array = np.array(rcc_hist)"
   ]
  },
  {
   "cell_type": "code",
   "execution_count": null,
   "metadata": {},
   "outputs": [],
   "source": [
    "rcc_hist_array"
   ]
  },
  {
   "cell_type": "code",
   "execution_count": null,
   "metadata": {},
   "outputs": [],
   "source": [
    "### Create Plot:\n",
    "plt.figure(figsize=(22,16))\n",
    "plt.hist(rcc_hist_array, rwidth = 0.95, bins = len(np.unique(rcc_hist_array)))\n",
    "plt.title(r\"Distribution of $\\Phi(k)$\", fontsize = 22)\n",
    "plt.xlabel(\"Rich Club Coefficient\", fontsize = 15)\n",
    "plt.ylabel(\"Number of Accounts\", fontsize = 15)\n",
    "plt.grid(True, which = \"major\", linestyle = \"-\")\n",
    "\n",
    "# plt.savefig(\"img/RCC_Distribution.png\")"
   ]
  },
  {
   "cell_type": "markdown",
   "metadata": {},
   "source": [
    "## Plots\n",
    "\n",
    "### Plots of the entire network\n",
    "\n",
    "Now let's try to plot the network according to the RC coefficients.\n",
    "\n",
    "First, draw the Network from the first graph `G`. First, the RC coefficient is stored in a list which can be passed to the `draw` function. We'll also try to layer in order to highlight random nodes which will be later highlighted according to their RC coefficient."
   ]
  },
  {
   "cell_type": "code",
   "execution_count": null,
   "metadata": {},
   "outputs": [],
   "source": [
    "sizes = list(rc_accounts.values())\n",
    "\n",
    "# For reproducibility of the plot:\n",
    "np.random.seed(16)\n",
    "\n",
    "# Define layout of the plot:\n",
    "pos = nx.spring_layout(G)\n",
    "\n",
    "# Highlight three randomly selected nodes as a test:\n",
    "plt.figure(figsize=(20,14))\n",
    "nx.draw(G, pos = pos, node_size = sizes, edge_color = \"lightgray\", width = 0.5, with_labels = True)\n",
    "nx.draw(G.subgraph([\"realDonaldTrump\", \"JennaEllisEsq\", \"ChuckGrassley\"]), with_labels = True, pos = pos, node_color = \"darkorange\")"
   ]
  },
  {
   "cell_type": "markdown",
   "metadata": {},
   "source": [
    "Now we will plot all Accounts where $\\Phi(k) = 1.0$. First, we generate a list from the `rc_accounts` dict which only contains these items. This list will be used as a subgraph to hightlight these accounts within the network."
   ]
  },
  {
   "cell_type": "code",
   "execution_count": null,
   "metadata": {},
   "outputs": [],
   "source": [
    "rc_1 = []\n",
    "\n",
    "for key, value in rc_accounts.items():\n",
    "    item = []\n",
    "    if value == 1.0:\n",
    "        rc_1.append(str(key))\n",
    "        \n",
    "print(rc_1)"
   ]
  },
  {
   "cell_type": "markdown",
   "metadata": {},
   "source": [
    "The following is a plot of the entire network with all the accounts where $\\Phi(k) = 1.0$ and their connections to each other are highlighted."
   ]
  },
  {
   "cell_type": "code",
   "execution_count": null,
   "metadata": {},
   "outputs": [],
   "source": [
    "# For reproducibility of the plot:\n",
    "np.random.seed(42)\n",
    "\n",
    "# Define layout of the plot:\n",
    "pos = nx.spring_layout(G)\n",
    "\n",
    "plt.figure(figsize=(22,16))\n",
    "nx.draw(G, \n",
    "        pos = pos, \n",
    "        node_size = 10,\n",
    "        node_color = \"mediumslateblue\",\n",
    "        edge_color = \"lightgray\",\n",
    "        width = 0.5)\n",
    "nx.draw(G.subgraph(rc_1), \n",
    "        pos = pos, \n",
    "        node_size = 60, \n",
    "        node_color = \"royalblue\",\n",
    "        edge_color = \"dimgray\",\n",
    "        width = 0.5,\n",
    "        with_labels = True)\n",
    "\n",
    "plt.savefig(\"img/Subnet_RCC_1.png\")"
   ]
  },
  {
   "cell_type": "markdown",
   "metadata": {},
   "source": [
    "Now it would be interesting to see how a few of these accounts are connected to the entire network. Once again, we create a graph which will be used as a subgraph to layer the individual network of one account. First, we start with `realDonaldTrump`. The data is taken straight from the `followers_complete` CSV file.\n",
    "\n",
    "There are two options:\n",
    "\n",
    "**1. Complete network of Donald Trump's friends with all edges**"
   ]
  },
  {
   "cell_type": "code",
   "execution_count": null,
   "metadata": {},
   "outputs": [],
   "source": [
    "# For reproducibility of the plot:\n",
    "np.random.seed(42)\n",
    "\n",
    "# Define layout of the plot:\n",
    "pos = nx.spring_layout(G)\n",
    "\n",
    "plt.figure(figsize=(20,14))\n",
    "nx.draw(G, \n",
    "        pos = pos, \n",
    "        node_size = 10,\n",
    "        node_color = \"royalblue\",\n",
    "        edge_color = \"lightgray\",\n",
    "        width = 0.5)\n",
    "nx.draw(G.subgraph(trump_graph), \n",
    "        pos = pos, \n",
    "        node_size = 60, \n",
    "        node_color = \"mediumblue\",\n",
    "        edge_color = \"dimgray\",\n",
    "        width = 0.5,\n",
    "        with_labels = True)\n",
    "nx.draw(G.subgraph(\"realDonaldTrump\"), \n",
    "        pos = pos, \n",
    "        node_size = 500, \n",
    "        node_color = \"navy\",\n",
    "        edge_color = \"dimgray\",\n",
    "        width = 0.5,\n",
    "        with_labels = True)"
   ]
  },
  {
   "cell_type": "markdown",
   "metadata": {},
   "source": [
    "**2. Network of Donald Trump's friends which higlights only the edges between** `realDonaldTrump` **and the friends**:"
   ]
  },
  {
   "cell_type": "code",
   "execution_count": null,
   "metadata": {},
   "outputs": [],
   "source": [
    "trump_graph = [\"realDonaldTrump\", \"LouDobbs\", \"GOPLeader\", \"senatemajldr\", \"Jim_Jordan\", \"MariaBartiromo\", \"VP\", \n",
    "               \"GOPChairwoman\", \"parscale\", \"PressSec\", \"JesseBWatters\", \"WhiteHouse\", \"Scavino45\", \"KellyannePolls\", \n",
    "               \"IngrahamAngle\", \"Mike_Pence\", \"TeamTrump\", \"seanhannity\", \"CLewandowski_\", \"KatrinaPierson\", \n",
    "               \"foxandfriends\", \"GeraldoRivera\", \"ericbolling\", \"DanScavino\", \"EricTrump\", \"DonaldJTrumpJr\", \"IvankaTrump\"]\n",
    "\n",
    "# For reproducibility of the plot:\n",
    "np.random.seed(42)\n",
    "\n",
    "# Define layout of the plot:\n",
    "pos = nx.spring_layout(G)\n",
    "\n",
    "plt.figure(figsize=(22,16))\n",
    "nx.draw(G, \n",
    "        pos = pos, \n",
    "        node_size = 10,\n",
    "        node_color = \"mediumslateblue\",\n",
    "        edge_color = \"lightgray\",\n",
    "        width = 0.5)\n",
    "\n",
    "for i in trump_graph:\n",
    "    nx.draw(G.subgraph([\"realDonaldTrump\", i]),\n",
    "            pos = pos, \n",
    "            node_size = 70,\n",
    "            node_color = \"royalblue\",\n",
    "            edge_color = \"dimgray\",\n",
    "            width = 0.5,\n",
    "            with_labels = True)\n",
    "nx.draw(G.subgraph(\"realDonaldTrump\"), \n",
    "        pos = pos, \n",
    "        node_size = 500, \n",
    "        node_color = \"royalblue\",\n",
    "        edge_color = \"dimgray\",\n",
    "        width = 0.5,\n",
    "        with_labels = True)\n",
    "\n",
    "# plt.savefig(\"img/Trump_Friends.png\")"
   ]
  },
  {
   "cell_type": "markdown",
   "metadata": {},
   "source": [
    "Let's try to automate this procedure since creating a list for every account is obviously not feasible.\n",
    "\n",
    "* The following two functions `get_friends_graph()` and `get_followers_graph()` return a list with the friends or followers of the account passed to the respective function. \n",
    "* The result of this function can be passed to the `G.subgraph` function inside a `nx.draw` function and it will create a subnetwork for the respective account.\n",
    "* There are two options:\n",
    "    1. Passing the list directly to the `G.subgraph` function will create a \"complete\" network of all accounts connected with the initial account and **connections in between them**.\n",
    "    2. Looping over the list and iteratively drawing one point after another $\\rightarrow$ this will plot the subnetwork of the friends or followers, **only** connected to the initial account."
   ]
  },
  {
   "cell_type": "code",
   "execution_count": null,
   "metadata": {},
   "outputs": [],
   "source": [
    "def get_friends_graph(account):\n",
    "    graph = []\n",
    "    cache = []\n",
    "    for i in data:\n",
    "        if account in i[0]:\n",
    "            cache.append(i)\n",
    "    \n",
    "    graph.append(cache[1][0])\n",
    "    \n",
    "    for j in cache:\n",
    "        graph.append(j[1])\n",
    "        \n",
    "    return graph"
   ]
  },
  {
   "cell_type": "code",
   "execution_count": null,
   "metadata": {},
   "outputs": [],
   "source": [
    "def get_followers_graph(account):\n",
    "    graph = []\n",
    "    cache = []\n",
    "    for i in data:\n",
    "        if account in i[1]:\n",
    "            cache.append(i)\n",
    "            \n",
    "    graph.append(account)\n",
    "    \n",
    "    for j in cache:\n",
    "        graph.append(j[0])\n",
    "    \n",
    "    return graph"
   ]
  },
  {
   "cell_type": "markdown",
   "metadata": {},
   "source": [
    "Now let's draw a fully automated plot of account `realDonaldTrump`. The first plot corresponds to option 1. above (creating a fully-connected network) while the second plot corresponds to option 2. and displays all the accounts that *follow* `realDonaldTrump`. The number of his friends is only 3 (the function returns 4 as his own account is included):"
   ]
  },
  {
   "cell_type": "code",
   "execution_count": null,
   "metadata": {},
   "outputs": [],
   "source": [
    "len(get_friends_graph(\"realDonaldTrump\"))"
   ]
  },
  {
   "cell_type": "markdown",
   "metadata": {},
   "source": [
    "#### Option 1: Fully connected network"
   ]
  },
  {
   "cell_type": "code",
   "execution_count": null,
   "metadata": {},
   "outputs": [],
   "source": [
    "# For reproducibility of the plot:\n",
    "np.random.seed(42)\n",
    "\n",
    "# Define layout of the plot:\n",
    "pos = nx.spring_layout(G)\n",
    "\n",
    "plt.figure(figsize=(20,14))\n",
    "nx.draw(G, \n",
    "        pos = pos, \n",
    "        node_size = 10,\n",
    "        node_color = \"royalblue\",\n",
    "        edge_color = \"lightgray\",\n",
    "        width = 0.5)\n",
    "\n",
    "# Change Account Name to draw graph here (2 instances):\n",
    "nx.draw(G.subgraph(get_followers_graph(\"realDonaldTrump\")),\n",
    "            pos = pos, \n",
    "            node_size = 60,\n",
    "            node_color = \"mediumblue\",\n",
    "            edge_color = \"dimgray\",\n",
    "            width = 0.5,\n",
    "            with_labels = True)"
   ]
  },
  {
   "cell_type": "markdown",
   "metadata": {},
   "source": [
    "#### Option 2: Plot followers only"
   ]
  },
  {
   "cell_type": "code",
   "execution_count": null,
   "metadata": {},
   "outputs": [],
   "source": [
    "# For reproducibility of the plot:\n",
    "np.random.seed(42)\n",
    "\n",
    "# Define layout of the plot:\n",
    "pos = nx.spring_layout(G)\n",
    "\n",
    "plt.figure(figsize=(22,16))\n",
    "nx.draw(G, \n",
    "        pos = pos, \n",
    "        node_size = 10,\n",
    "        node_color = \"mediumslateblue\",\n",
    "        edge_color = \"lightgray\",\n",
    "        width = 0.5)\n",
    "\n",
    "# Change Account Name to draw graph here (2 instances):\n",
    "for i in get_followers_graph(\"realDonaldTrump\")[1:]:\n",
    "    nx.draw(G.subgraph([\"realDonaldTrump\", i]),\n",
    "            pos = pos, \n",
    "            node_size = 60,\n",
    "            node_color = \"royalblue\",\n",
    "            edge_color = \"dimgray\",\n",
    "            width = 0.5,\n",
    "            with_labels = True)\n",
    "\n",
    "nx.draw(G.subgraph(\"realDonaldTrump\"), \n",
    "        pos = pos, \n",
    "        node_size = 500, \n",
    "        node_color = \"royalblue\",\n",
    "        edge_color = \"dimgray\",\n",
    "        width = 0.5,\n",
    "        with_labels = True)\n",
    "\n",
    "# plt.savefig(\"img/Trump_Followers.png\")"
   ]
  },
  {
   "cell_type": "markdown",
   "metadata": {},
   "source": [
    "### Plot of the subnetwork with RC Coefficient and Node Degrees"
   ]
  },
  {
   "cell_type": "markdown",
   "metadata": {},
   "source": [
    "First, we plot the network with the **RC coefficients as node labels**. Relabelling can easily be done with the `draw_networkx_labels` command. This command takes a dictionary which is mapped with the nodes, so the keys of the dict that is passed to this function have to be the same as the nodes in the network."
   ]
  },
  {
   "cell_type": "code",
   "execution_count": null,
   "metadata": {},
   "outputs": [],
   "source": [
    "rc_accounts_rounded = rc_accounts.copy()\n",
    "\n",
    "for key, value in rc_accounts_rounded.items():\n",
    "    if value < 1.0:\n",
    "        v = round(value, 5)\n",
    "        rc_accounts_rounded[key] = v\n",
    "\n",
    "# print(rc_accounts_rounded)"
   ]
  },
  {
   "cell_type": "code",
   "execution_count": null,
   "metadata": {},
   "outputs": [],
   "source": [
    "# For reproducibility of the plot:\n",
    "np.random.seed(42)\n",
    "\n",
    "# Define layout of the plot:\n",
    "pos = nx.spring_layout(G)\n",
    "\n",
    "# Define node sizes:\n",
    "sizes = [v**3 + 70 for v in list(rc_accounts.values())]\n",
    "\n",
    "plt.figure(figsize=(22,16))\n",
    "nx.draw(G, \n",
    "        pos = pos, \n",
    "        node_size = sizes,\n",
    "        node_color = \"royalblue\",\n",
    "        edge_color = \"lightgray\",\n",
    "        width = 0.5)\n",
    "\n",
    "nx.draw_networkx_nodes(rc_1, \n",
    "        pos = pos, \n",
    "        node_size = 60, \n",
    "        node_color = \"crimson\")\n",
    "\n",
    "nx.draw_networkx_labels(G, \n",
    "                        pos = pos, \n",
    "                        labels = rc_accounts_rounded,\n",
    "                        verticalalignment = \"bottom\")\n",
    "\n",
    "plt.savefig(\"img/RCC_1_No_Subnet.png\")"
   ]
  },
  {
   "cell_type": "markdown",
   "metadata": {},
   "source": [
    "Now, the same code with Account Names as Labels only for those where RCC = 1:"
   ]
  },
  {
   "cell_type": "markdown",
   "metadata": {},
   "source": [
    "Now, we plot the entire network with the **node sizes proportionally to the node degrees**. First we create a list of the proportional sizes using a monotonic transformation:"
   ]
  },
  {
   "cell_type": "markdown",
   "metadata": {},
   "source": [
    "Then, we create a dictionary (`degree_dict`) which is used for mapping the node degrees as node labels:"
   ]
  },
  {
   "cell_type": "code",
   "execution_count": null,
   "metadata": {},
   "outputs": [],
   "source": [
    "degree_dict = {}\n",
    "\n",
    "for i, j in G.degree():\n",
    "    element = {i:j}\n",
    "    degree_dict.update(element)"
   ]
  },
  {
   "cell_type": "markdown",
   "metadata": {},
   "source": [
    "Finally, the plot:"
   ]
  },
  {
   "cell_type": "code",
   "execution_count": null,
   "metadata": {},
   "outputs": [],
   "source": [
    "# For reproducibility of the plot:\n",
    "np.random.seed(42)\n",
    "\n",
    "# Define layout of the plot:\n",
    "pos = nx.spring_layout(G)\n",
    "\n",
    "# Define node sizes:\n",
    "sizes = [d[1]**1.7 + 70 for d in G.degree()]\n",
    "\n",
    "plt.figure(figsize=(22,16))\n",
    "nx.draw(G, \n",
    "        pos = pos, \n",
    "        node_size = sizes,\n",
    "        node_color = \"royalblue\",\n",
    "        edge_color = \"lightgray\",\n",
    "        width = 0.5)\n",
    "nx.draw_networkx_labels(G, \n",
    "                        pos = pos, \n",
    "                        labels = degree_dict)\n",
    "\n",
    "plt.savefig(\"img/Node_Degree_Proportional.png\")"
   ]
  },
  {
   "cell_type": "markdown",
   "metadata": {},
   "source": [
    "### Plot of the subnetwork -- only Nodes with RCC = 1\n",
    "\n",
    "First, create a graph with only the nodes with RCC = 1. We will use the `rc_1` list created above and map it to the entire `data` dataset."
   ]
  },
  {
   "cell_type": "code",
   "execution_count": null,
   "metadata": {},
   "outputs": [],
   "source": [
    "# Create list of tuples which will be used for creating the graph:\n",
    "friend_cache = []\n",
    "for d in data:\n",
    "    if d[1] in rc_1:\n",
    "        friend_cache.append(d)\n",
    "\n",
    "rc_1_list = []\n",
    "for f in friend_cache:\n",
    "    if f[0] in rc_1:\n",
    "        rc_1_list.append(f)\n",
    "\n",
    "# Create networkx.Graph from rc_1_list:\n",
    "RC1_G = nx.Graph()\n",
    "RC1_G.add_nodes_from(r[0] for r in rc_1_list)\n",
    "RC1_G.number_of_nodes()\n",
    "RC1_G.add_edges_from(rc_1_list)"
   ]
  },
  {
   "cell_type": "markdown",
   "metadata": {},
   "source": [
    "Create list of degrees:"
   ]
  },
  {
   "cell_type": "code",
   "execution_count": null,
   "metadata": {},
   "outputs": [],
   "source": [
    "RC1_degrees = list(RC1_G.degree)\n",
    "RC1_degrees\n",
    "RC1_degrees"
   ]
  },
  {
   "cell_type": "markdown",
   "metadata": {},
   "source": [
    "Create Plot:"
   ]
  },
  {
   "cell_type": "code",
   "execution_count": null,
   "metadata": {},
   "outputs": [],
   "source": [
    "# For reproducibility of the plot:\n",
    "np.random.seed(42)\n",
    "\n",
    "# Define layout of the plot:\n",
    "pos = nx.spring_layout(RC1_G)\n",
    "\n",
    "size = list(d[1]**2 + 70 for d in RC1_G.degree())\n",
    "\n",
    "plt.figure(figsize=(20,14))\n",
    "nx.draw(RC1_G,\n",
    "        pos = pos,\n",
    "        node_size = size)"
   ]
  },
  {
   "cell_type": "markdown",
   "metadata": {},
   "source": [
    "Calculate Rich Club Coefficient for this particular subnetwork:"
   ]
  },
  {
   "cell_type": "code",
   "execution_count": null,
   "metadata": {},
   "outputs": [],
   "source": [
    "subnet_rcc = nx.rich_club_coefficient(RC1_G, normalized = False, seed = 42)\n",
    "subnet_rcc"
   ]
  },
  {
   "cell_type": "markdown",
   "metadata": {},
   "source": [
    "There are hardly any nodes within these network with a node degree < 23. Almost all nodes within this subnetwork are connected to **all other nodes within the subnetwork**. Further visualization beyond the one above wouln't make much sense since these are the only accounts that are not connecte to all other nodes:\n",
    "\n",
    "* GOPChairwoman, Node Degree: 22\n",
    "* DailyCaller, Node Degree: 22\n",
    "* RepMattGaetz, Node Degree: 22\n",
    "* ByronYork, Node Degree: 20\n",
    "\n",
    "**This shows that there is a highly connected rich club present in the network**."
   ]
  },
  {
   "cell_type": "code",
   "execution_count": null,
   "metadata": {},
   "outputs": [],
   "source": []
  },
  {
   "cell_type": "code",
   "execution_count": null,
   "metadata": {},
   "outputs": [],
   "source": []
  }
 ],
 "metadata": {
  "kernelspec": {
   "display_name": "Python 3",
   "language": "python",
   "name": "python3"
  },
  "language_info": {
   "codemirror_mode": {
    "name": "ipython",
    "version": 3
   },
   "file_extension": ".py",
   "mimetype": "text/x-python",
   "name": "python",
   "nbconvert_exporter": "python",
   "pygments_lexer": "ipython3",
   "version": "3.7.9"
  }
 },
 "nbformat": 4,
 "nbformat_minor": 4
}
