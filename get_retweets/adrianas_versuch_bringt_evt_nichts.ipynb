{
 "cells": [
  {
   "cell_type": "code",
   "execution_count": 22,
   "metadata": {},
   "outputs": [],
   "source": [
    "import pandas as pd\n",
    "import re\n",
    "\n",
    "\n",
    "# Read data:\n",
    "data = pd.read_csv(\"get_retweets/data/trump_twitter_2009-2020.csv\", sep=\",\")\n",
    "\n",
    "\n",
    "def get_retweeted_accounts(trump_twitter):\n",
    "    \"\"\"Returns a list of every twitter account DT ever retweeted\"\"\"\n",
    "    \n",
    "    # Filter rows with retweets only:\n",
    "    retweets = trump_twitter[trump_twitter[\"isRetweet\"] == \"t\"]\n",
    "    \n",
    "    # Drop all columns except \"text\" and reindex column:\n",
    "    handles = retweets.drop([\"id\", \"isRetweet\", \"isDeleted\", \"device\", \"favorites\", \"retweets\", \"date\"], axis=1)\n",
    "    handles = handles.reset_index()\n",
    "    handles = handles.drop(\"index\", axis=1)\n",
    "    \n",
    "    # Filter the account handles with regex:\n",
    "    retweeted_accounts = []\n",
    "\n",
    "    for index, row in handles.iterrows():\n",
    "        account = re.search(r'(@)\\w+', str(row)).group()\n",
    "        retweeted_accounts.append(account)\n",
    "    \n",
    "    return retweeted_accounts\n",
    "\n",
    "\n",
    "def get_number_of_retweets(tweets):\n",
    "    \"\"\"Returns a list of accounts, sorted by number of retweets.\"\"\"\n",
    "    \n",
    "    # Empty dicts, later used for list concatenation:\n",
    "    retweet_counter = {\"account_name\": [], \"retweet_count\": []}\n",
    "    \n",
    "    # Fill the lists in the dict with the respective values:\n",
    "    for account in tweets:\n",
    "        if account not in retweet_counter[\"account_name\"]:\n",
    "            retweet_counter[\"account_name\"].append(account)\n",
    "            retweet_counter[\"retweet_count\"].append(1)\n",
    "        else:\n",
    "            account_position = retweet_counter[\"account_name\"].index(account)\n",
    "            retweet_counter[\"retweet_count\"][account_position] += 1\n",
    "    \n",
    "    # Concatenate the lists in the retweet_counter dict, return single dictionary:\n",
    "    retweets_pairing = {retweet_counter[\"account_name\"][i]:\n",
    "                        retweet_counter[\"retweet_count\"][i]\n",
    "                        for i in range(len(retweet_counter[\"account_name\"]))}\n",
    "    \n",
    "    # Sort the key-value-pairs in the retweets_pairing dictionary in descending order: \n",
    "    retweets_sorted = sorted(retweets_pairing.items(), key = lambda kv: kv[1], reverse = True)\n",
    "    \n",
    "    # Return the sorted values:\n",
    "    return retweets_sorted\n",
    "\n",
    "\n",
    "# Applying the functions and getting the top 100 retweeted accounts:\n",
    "all_retweets = get_number_of_retweets(get_retweeted_accounts(data))\n",
    "top100 = all_retweets[:100]\n",
    "\n",
    "\n"
   ]
  },
  {
   "cell_type": "code",
   "execution_count": 25,
   "metadata": {},
   "outputs": [],
   "source": [
    "final = []\n",
    "for element in top100:\n",
    "    bim = element[0][1:]\n",
    "    bam = element[1]\n",
    "    bimbam = str(bim) + \",\" + str(bam)\n",
    "    final.append(bimbam)"
   ]
  },
  {
   "cell_type": "code",
   "execution_count": 26,
   "metadata": {},
   "outputs": [
    {
     "name": "stdout",
     "output_type": "stream",
     "text": [
      "['realDonaldTrump,918', 'WhiteHouse,655', 'TeamTrump,273', 'GOPChairwoman,211', 'DanScavino,145', 'Jim_Jordan,136', 'GOP,132', 'Scavino45,114', 'DonaldJTrumpJr,113', 'IvankaTrump,105', 'GreggJarrett,104', 'EricTrump,94', 'TomFitton,94', 'paulsperry_,85', 'RepMarkMeadows,80', 'marklevinshow,78', 'TrumpWarRoom,73', 'LindseyGrahamSC,72', 'charliekirk11,70', 'dbongino,69', 'SenateGOP,68', 'GOPLeader,66', 'JudicialWatch,59', 'senatemajldr,57', 'foxandfriends,56', 'seanhannity,55', 'VP,55', 'SteveScalise,53', 'MZHemingway,52', 'FLOTUS,52', 'LouDobbs,48', 'DailyCaller,46', 'BuckSexton,45', 'RepAndyBiggsAZ,45', 'RepLeeZeldin,45', 'KimStrassel,42', 'Mike_Pence,41', 'MariaBartiromo,41', 'PressSec,39', 'SaraCarterDC,38', 'RepDougCollins,38', 'RepMattGaetz,37', 'NHC_Atlantic,37', 'JohnWHuber,34', 'MarshaBlackburn,33', 'AndrewCMcCarthy,31', 'RandPaul,30', 'IngrahamAngle,30', 'TVNewsHQ,30', 'mike_pence,30', 'jsolomonReports,29', 'CLewandowski_,27', 'parscale,27', 'GOPoversight,27', 'ByronYork,26', 'FoxNews,26', 'GeraldoRivera,25', 'DevinNunes,25', 'BreitbartNews,25', 'SenTomCotton,24', 'dcexaminer,24', 'thebradfordfile,24', 'RNCResearch,24', 'DRUDGE_REPORT,24', 'seanmdav,23', 'JackPosobiec,23', 'CDCgov,23', 'marcorubio,23', 'Lrihendry,23', 'SenTedCruz,22', 'thehill,22', 'PollWatch2020,22', 'OANN,21', 'DavidJHarrisJr,20', 'JennaEllisEsq,20', 'NRA,19', 'Varneyco,19', 'kayleighmcenany,19', 'RudyGiuliani,19', 'hughhewitt,19', 'JesseBWatters,19', 'HouseGOP,18', 'RealJamesWoods,18', 'fema,18', 'KatrinaPierson,17', 'SenJohnBarrasso,17', 'ericbolling,17', 'HawleyMO,17', 'thejtlewis,16', 'TimMurtaugh,16', 'RichardGrenell,16', 'tedcruz,16', 'bennyjohnson,16', 'TheRightMelissa,15', 'KellyannePolls,15', 'SenRonJohnson,15', 'SenThomTillis,15', 'EliseStefanik,15', 'brithume,15', 'ChuckGrassley,15']\n"
     ]
    }
   ],
   "source": [
    "print(final)"
   ]
  },
  {
   "cell_type": "code",
   "execution_count": 29,
   "metadata": {},
   "outputs": [],
   "source": [
    "df = pd.DataFrame(final)\n",
    "df.to_csv(\"number_of_retweetsZ.csv\", index = False)"
   ]
  },
  {
   "cell_type": "code",
   "execution_count": 2,
   "metadata": {},
   "outputs": [
    {
     "data": {
      "text/plain": [
       "'D:\\\\home\\\\adriana\\\\GitHub\\\\social_interaction'"
      ]
     },
     "execution_count": 2,
     "metadata": {},
     "output_type": "execute_result"
    }
   ],
   "source": []
  }
 ],
 "metadata": {
  "kernelspec": {
   "display_name": "Python 3",
   "language": "python",
   "name": "python3"
  },
  "language_info": {
   "codemirror_mode": {
    "name": "ipython",
    "version": 3
   },
   "file_extension": ".py",
   "mimetype": "text/x-python",
   "name": "python",
   "nbconvert_exporter": "python",
   "pygments_lexer": "ipython3",
   "version": "3.7.3"
  }
 },
 "nbformat": 4,
 "nbformat_minor": 4
}
