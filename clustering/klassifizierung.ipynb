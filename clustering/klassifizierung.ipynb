{
 "cells": [
  {
   "cell_type": "code",
   "execution_count": 5,
   "metadata": {},
   "outputs": [
    {
     "name": "stdout",
     "output_type": "stream",
     "text": [
      "1      @realDonaldTrump\n",
      "2           @WhiteHouse\n",
      "3            @TeamTrump\n",
      "4        @GOPChairwoman\n",
      "5           @DanScavino\n",
      "             ...       \n",
      "96       @SenRonJohnson\n",
      "97       @SenThomTillis\n",
      "98       @EliseStefanik\n",
      "99            @brithume\n",
      "100      @ChuckGrassley\n",
      "Name: 0, Length: 100, dtype: object\n"
     ]
    }
   ],
   "source": [
    "import pandas as pd\n",
    "\n",
    "df = pd.read_csv(\"../get_retweets/number_of_retweets.csv\", header = None)\n",
    "df = df.drop([0])\n",
    "df = df[0]\n",
    "print(df)"
   ]
  },
  {
   "cell_type": "code",
   "execution_count": 6,
   "metadata": {},
   "outputs": [],
   "source": [
    "df = df.str.strip(\"@\")\n",
    "df = df.to_frame()"
   ]
  },
  {
   "cell_type": "code",
   "execution_count": 7,
   "metadata": {},
   "outputs": [],
   "source": [
    "politiker = [\"SteveScalise\", \"MarshaBlackburn\", \"senatemajldr\", \"LindseyGrahamSC\", \"RandPaul\", \"GOPLeader\", \"Jim_Jordan\", \"GOPChairwoman\", \"realDonaldTrump\", \"ChuckGrassley\",\"EliseStefanik\", \"thejtlewis\", \"HawleyMO\"]\n",
    "administration = [\"paulsperry_\", \"Scavino45\", \"JohnWHuber\", \"VP\", \"FLOTUS\", \"PressSec\", \"CLewandowski_\", \"CDCgov\", \"Lrihendry\", \"JennaEllisEsq\", \"kayleighmcenany\", \"RudyGiuliani\", \"KatrinaPierson\", \"RichardGrenell\", \"TimMurtaugh\", \"KellyannePolls\", ]  #Botschafter und weitere, die in der Administration angestellt sind\n",
    "org= [\"TrumpWarRoom\", \"NHC_Atlantic\", \"JudicialWatch\", \"GOP\", \"TeamTrump\", \"RNCResearch\", \"NRA\",\"WhiteHouse\", \"fema\", \"HouseGOP\", \"GOPoversight\", \"SenateGOP\"]\n",
    "news = [\"MZHemingway\", \"DailyCaller\", \"GreggJarrett\", \"IngrahamAngle\", \"KimStrassel\", \"AndrewCMcCarthy\", \"SaraCarterDC\", \"LouDobbs\", \"MariaBartiromo\", \"seanhannity\", \"jsolomonReports\", \"ByronYork\", \"foxandfriends\", \"FoxNews\", \"BreitbartNews\", \"dcexaminer\", \"thehill\", \"OANN\", \"Varneyco\", \"hughhewitt\", \"JesseBWatters\", \"brithume\", \"bennyjohnson\", \"ericbolling\"]\n",
    "private = [\"TomFitton\", \"marklevinshow\", \"dbongino\", \"BuckSexton\", \"charliekirk11\", \"TVNewsHQ\", \"Mike_Pence\", \"mike_pence\", \"DanScavino\", \"parscale\", \"GeraldoRivera\", \"DevinNunes\", \"thebradfordfile\", \"DRUDGE_REPORT\", \"seanmdav\", \"JackPosobiec\", \"PollWatch2020\", \"DavidJHarrisJr\", \"TheRightMelissa\", \"tedcruz\", \"RealJamesWoods\"] #inkl. Schauspieler. Hier auch private Twitter Accounts von offiziellen drin als auch Verschwörungstheorikern\n",
    "trump = [\"DonaldJTrumpJr\", \"IvankaTrump\", \"EricTrump\"]\n"
   ]
  },
  {
   "cell_type": "code",
   "execution_count": 8,
   "metadata": {},
   "outputs": [
    {
     "data": {
      "text/html": [
       "<div>\n",
       "<style scoped>\n",
       "    .dataframe tbody tr th:only-of-type {\n",
       "        vertical-align: middle;\n",
       "    }\n",
       "\n",
       "    .dataframe tbody tr th {\n",
       "        vertical-align: top;\n",
       "    }\n",
       "\n",
       "    .dataframe thead th {\n",
       "        text-align: right;\n",
       "    }\n",
       "</style>\n",
       "<table border=\"1\" class=\"dataframe\">\n",
       "  <thead>\n",
       "    <tr style=\"text-align: right;\">\n",
       "      <th></th>\n",
       "      <th>0</th>\n",
       "    </tr>\n",
       "  </thead>\n",
       "  <tbody>\n",
       "    <tr>\n",
       "      <th>1</th>\n",
       "      <td>realDonaldTrump</td>\n",
       "    </tr>\n",
       "    <tr>\n",
       "      <th>2</th>\n",
       "      <td>WhiteHouse</td>\n",
       "    </tr>\n",
       "    <tr>\n",
       "      <th>3</th>\n",
       "      <td>TeamTrump</td>\n",
       "    </tr>\n",
       "    <tr>\n",
       "      <th>4</th>\n",
       "      <td>GOPChairwoman</td>\n",
       "    </tr>\n",
       "    <tr>\n",
       "      <th>5</th>\n",
       "      <td>DanScavino</td>\n",
       "    </tr>\n",
       "    <tr>\n",
       "      <th>...</th>\n",
       "      <td>...</td>\n",
       "    </tr>\n",
       "    <tr>\n",
       "      <th>96</th>\n",
       "      <td>SenRonJohnson</td>\n",
       "    </tr>\n",
       "    <tr>\n",
       "      <th>97</th>\n",
       "      <td>SenThomTillis</td>\n",
       "    </tr>\n",
       "    <tr>\n",
       "      <th>98</th>\n",
       "      <td>EliseStefanik</td>\n",
       "    </tr>\n",
       "    <tr>\n",
       "      <th>99</th>\n",
       "      <td>brithume</td>\n",
       "    </tr>\n",
       "    <tr>\n",
       "      <th>100</th>\n",
       "      <td>ChuckGrassley</td>\n",
       "    </tr>\n",
       "  </tbody>\n",
       "</table>\n",
       "<p>100 rows × 1 columns</p>\n",
       "</div>"
      ],
      "text/plain": [
       "                   0\n",
       "1    realDonaldTrump\n",
       "2         WhiteHouse\n",
       "3          TeamTrump\n",
       "4      GOPChairwoman\n",
       "5         DanScavino\n",
       "..               ...\n",
       "96     SenRonJohnson\n",
       "97     SenThomTillis\n",
       "98     EliseStefanik\n",
       "99          brithume\n",
       "100    ChuckGrassley\n",
       "\n",
       "[100 rows x 1 columns]"
      ]
     },
     "execution_count": 8,
     "metadata": {},
     "output_type": "execute_result"
    }
   ],
   "source": [
    "df"
   ]
  },
  {
   "cell_type": "code",
   "execution_count": 9,
   "metadata": {},
   "outputs": [],
   "source": [
    "def politicizer(s):\n",
    "    if s[:3] == \"Sen\":\n",
    "        return \"politician\"\n",
    "    elif s[:3] == \"Rep\":\n",
    "        return \"politician\"\n",
    "    elif s == \"SenateGOP\":\n",
    "        return \"political_org\"\n",
    "    elif s in politiker:\n",
    "        return \"politician\"\n",
    "    elif s in administration:\n",
    "        return \"administration\"\n",
    "    elif s in org:\n",
    "        return \"political_org\"\n",
    "    elif s in news:\n",
    "        return \"news\"\n",
    "    elif s in private:\n",
    "        return \"private\"\n",
    "    elif s in trump:\n",
    "        return \"family\""
   ]
  },
  {
   "cell_type": "code",
   "execution_count": 10,
   "metadata": {},
   "outputs": [],
   "source": [
    "df[\"Kategorie\"] = df[0].apply(politicizer)"
   ]
  },
  {
   "cell_type": "code",
   "execution_count": 11,
   "metadata": {},
   "outputs": [
    {
     "data": {
      "text/html": [
       "<div>\n",
       "<style scoped>\n",
       "    .dataframe tbody tr th:only-of-type {\n",
       "        vertical-align: middle;\n",
       "    }\n",
       "\n",
       "    .dataframe tbody tr th {\n",
       "        vertical-align: top;\n",
       "    }\n",
       "\n",
       "    .dataframe thead th {\n",
       "        text-align: right;\n",
       "    }\n",
       "</style>\n",
       "<table border=\"1\" class=\"dataframe\">\n",
       "  <thead>\n",
       "    <tr style=\"text-align: right;\">\n",
       "      <th></th>\n",
       "      <th>0</th>\n",
       "      <th>Kategorie</th>\n",
       "    </tr>\n",
       "  </thead>\n",
       "  <tbody>\n",
       "    <tr>\n",
       "      <th>1</th>\n",
       "      <td>realDonaldTrump</td>\n",
       "      <td>politician</td>\n",
       "    </tr>\n",
       "    <tr>\n",
       "      <th>2</th>\n",
       "      <td>WhiteHouse</td>\n",
       "      <td>political_org</td>\n",
       "    </tr>\n",
       "    <tr>\n",
       "      <th>3</th>\n",
       "      <td>TeamTrump</td>\n",
       "      <td>political_org</td>\n",
       "    </tr>\n",
       "    <tr>\n",
       "      <th>4</th>\n",
       "      <td>GOPChairwoman</td>\n",
       "      <td>politician</td>\n",
       "    </tr>\n",
       "    <tr>\n",
       "      <th>5</th>\n",
       "      <td>DanScavino</td>\n",
       "      <td>private</td>\n",
       "    </tr>\n",
       "    <tr>\n",
       "      <th>...</th>\n",
       "      <td>...</td>\n",
       "      <td>...</td>\n",
       "    </tr>\n",
       "    <tr>\n",
       "      <th>96</th>\n",
       "      <td>SenRonJohnson</td>\n",
       "      <td>politician</td>\n",
       "    </tr>\n",
       "    <tr>\n",
       "      <th>97</th>\n",
       "      <td>SenThomTillis</td>\n",
       "      <td>politician</td>\n",
       "    </tr>\n",
       "    <tr>\n",
       "      <th>98</th>\n",
       "      <td>EliseStefanik</td>\n",
       "      <td>politician</td>\n",
       "    </tr>\n",
       "    <tr>\n",
       "      <th>99</th>\n",
       "      <td>brithume</td>\n",
       "      <td>news</td>\n",
       "    </tr>\n",
       "    <tr>\n",
       "      <th>100</th>\n",
       "      <td>ChuckGrassley</td>\n",
       "      <td>politician</td>\n",
       "    </tr>\n",
       "  </tbody>\n",
       "</table>\n",
       "<p>100 rows × 2 columns</p>\n",
       "</div>"
      ],
      "text/plain": [
       "                   0      Kategorie\n",
       "1    realDonaldTrump     politician\n",
       "2         WhiteHouse  political_org\n",
       "3          TeamTrump  political_org\n",
       "4      GOPChairwoman     politician\n",
       "5         DanScavino        private\n",
       "..               ...            ...\n",
       "96     SenRonJohnson     politician\n",
       "97     SenThomTillis     politician\n",
       "98     EliseStefanik     politician\n",
       "99          brithume           news\n",
       "100    ChuckGrassley     politician\n",
       "\n",
       "[100 rows x 2 columns]"
      ]
     },
     "execution_count": 11,
     "metadata": {},
     "output_type": "execute_result"
    }
   ],
   "source": [
    "df"
   ]
  },
  {
   "cell_type": "code",
   "execution_count": 12,
   "metadata": {},
   "outputs": [],
   "source": [
    "df.to_csv(\"klassifizierung.csv\")"
   ]
  }
 ],
 "metadata": {
  "kernelspec": {
   "display_name": "Python 3",
   "language": "python",
   "name": "python3"
  },
  "language_info": {
   "codemirror_mode": {
    "name": "ipython",
    "version": 3
   },
   "file_extension": ".py",
   "mimetype": "text/x-python",
   "name": "python",
   "nbconvert_exporter": "python",
   "pygments_lexer": "ipython3",
   "version": "3.7.3"
  }
 },
 "nbformat": 4,
 "nbformat_minor": 4
}
