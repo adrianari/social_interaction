{
 "cells": [
  {
   "cell_type": "markdown",
   "metadata": {},
   "source": [
    "# Setting up the functions for data cleaning"
   ]
  },
  {
   "cell_type": "code",
   "execution_count": 1,
   "metadata": {},
   "outputs": [],
   "source": [
    "import pandas as pd\n",
    "import time"
   ]
  },
  {
   "cell_type": "code",
   "execution_count": 2,
   "metadata": {},
   "outputs": [],
   "source": [
    "# Setup Top 100 list for comparison:\n",
    "\n",
    "top100 = [\"realDonaldTrump\", \"WhiteHouse\", \"TeamTrump\", \"GOPChairwoman\", \"DanScavino\", \"Jim_Jordan\", \"GOP\", \"Scavino45\", \"DonaldJTrumpJr\",\n",
    "          \"IvankaTrump\", \"GreggJarrett\", \"EricTrump\", \"TomFitton\", \"paulsperry\", \"RepMarkMeadows\", \"marklevinshow\", \"TrumpWarRoom\",\n",
    "          \"LindseyGrahamSC\", \"charliekirk11\", \"dbongino\", \"SenateGOP\", \"GOPLeader\", \"JudicialWatch\", \"senatemajldr\", \"foxandfriends\",\n",
    "          \"seanhannity\", \"VP\", \"SteveScalise\", \"MZHemingway\", \"FLOTUS\", \"LouDobbs\", \"DailyCaller\", \"BuckSexton\", \"RepAndyBiggsAZ\", \"RepLeeZeldin\",\n",
    "          \"KimStrassel\", \"Mike_Pence\", \"MariaBartiromo\", \"PressSec\", \"SaraCarterDC\", \"RepDougCollins\", \"RepMattGaetz\", \"NHC_Atlantic\",\n",
    "          \"JohnWHuber\", \"MarshaBlackburn\", \"AndrewCMcCarthy\", \"RandPaul\", \"IngrahamAngle\", \"TVNewsHQ\", \"jsolomonReports\",\n",
    "          \"CLewandowski_\", \"parscale\", \"GOPoversight\", \"ByronYork\", \"FoxNews\", \"GeraldoRivera\", \"DevinNunes\", \"BreitbartNews\", \"SenTomCotton\",\n",
    "          \"dcexaminer\", \"thebradfordfile\", \"RNCResearch\", \"seanmdav\", \"JackPosobiec\", \"CDCgov\", \"marcorubio\", \"Lrihendry\",\n",
    "          \"SenTedCruz\", \"thehill\", \"PollWatch2020\", \"OANN\", \"DavidJHarrisJr\", \"JennaEllisEsq\", \"NRA\", \"Varneyco\", \"kayleighmcenany\", \"RudyGiuliani\",\n",
    "          \"hughhewitt\", \"JesseBWatters\", \"HouseGOP\", \"RealJamesWoods\", \"fema\", \"KatrinaPierson\", \"SenJohnBarrasso\", \"ericbolling\", \"HawleyMO\",\n",
    "          \"thejtlewis\", \"TimMurtaugh\", \"RichardGrenell\", \"tedcruz\", \"bennyjohnson\", \"TheRightMelissa\", \"KellyannePolls\", \"SenRonJohnson\",\n",
    "          \"SenThomTillis\", \"EliseStefanik\", \"brithume\", \"ChuckGrassley\"]"
   ]
  },
  {
   "cell_type": "markdown",
   "metadata": {},
   "source": [
    "In den Top 100 sind nur 98 Follower:\n",
    "\n",
    "* 1 Account ist privat und kann nicht gescraped werden (`\"DRUDGE_REPORT\"`)\n",
    "* Mike Pence kommt 2x vor, sein handle war bis 2016 `mike_pence` und ist seither `Mike_Pence`. Da Twitter bei Handles nicht zwischen Gross- und Kleinschreibung unterscheidet ist das der selbe Account."
   ]
  },
  {
   "cell_type": "markdown",
   "metadata": {},
   "source": [
    "Die folgende Funktion bereitet die Daten so auf, damit sie in weiterer Folge auf Follower überprüft und weiter verarbeitet werden können:"
   ]
  },
  {
   "cell_type": "code",
   "execution_count": 3,
   "metadata": {},
   "outputs": [],
   "source": [
    "def prepare_friends_data(filename):\n",
    "    \"\"\"\n",
    "    :param filename: Twitter-handle used in the filenames\n",
    "    :returns: DataFrame with clean columns\n",
    "    \"\"\"\n",
    "    data = pd.read_csv(f\"friends/{filename}_friends.csv\")\n",
    "\n",
    "    # Insert Column 1 and fill with the respective account name:\n",
    "    data.insert(0, \"Account\", f\"{filename}\")\n",
    "\n",
    "    # Rename columns:\n",
    "    data.columns = [\"Account\", \"Follows\"]\n",
    "    return data"
   ]
  },
  {
   "cell_type": "markdown",
   "metadata": {},
   "source": [
    "Die folgende Funktion überprüft, ob Accounts im DataFrame in der top100-Liste vorkommen und droppt alle anderen. Ausgegeben wird ein Data Frame mit folgender Struktur:\n",
    "\n",
    "```\n",
    "+-------------------------+\n",
    "| Account      | Follows  |\n",
    "+--------------+----------+\n",
    "| Account-Name | Friend 1 |\n",
    "| Account-Name | Friend 2 |\n",
    "| Account-Name | Friend 3 |\n",
    "| ...          | ...      |\n",
    "+--------------+----------+\n",
    "```"
   ]
  },
  {
   "cell_type": "code",
   "execution_count": 4,
   "metadata": {},
   "outputs": [],
   "source": [
    "def clean_friends_list(data):\n",
    "    \"\"\"\n",
    "    :param data: Clean data set as obtained from function prepare_friends_data()\n",
    "    :returns: DataFrame which only contains Friends accounts that appear in the top100 list\n",
    "    \"\"\"\n",
    "    for index, row in data.iterrows():\n",
    "        if row[\"Follows\"] not in top100:\n",
    "            data.drop(index, inplace = True)\n",
    "    data.reset_index(inplace = True, drop = True)\n",
    "    return data"
   ]
  },
  {
   "cell_type": "markdown",
   "metadata": {},
   "source": [
    "### Test der beiden Funktionen:"
   ]
  },
  {
   "cell_type": "code",
   "execution_count": 5,
   "metadata": {},
   "outputs": [
    {
     "name": "stdout",
     "output_type": "stream",
     "text": [
      "       Account          Follows\n",
      "0   WhiteHouse    robertcobrien\n",
      "1   WhiteHouse   StephGrisham45\n",
      "2   WhiteHouse       Mike_Pence\n",
      "3   WhiteHouse         OMBPress\n",
      "4   WhiteHouse            WHNSC\n",
      "5   WhiteHouse          Cabinet\n",
      "6   WhiteHouse   KellyannePolls\n",
      "7   WhiteHouse        Scavino45\n",
      "8   WhiteHouse       SecondLady\n",
      "9   WhiteHouse         PressSec\n",
      "10  WhiteHouse               VP\n",
      "11  WhiteHouse           FLOTUS\n",
      "12  WhiteHouse  realDonaldTrump\n",
      "13  WhiteHouse            POTUS\n"
     ]
    }
   ],
   "source": [
    "test = prepare_friends_data(\"WhiteHouse\")\n",
    "print(test)"
   ]
  },
  {
   "cell_type": "code",
   "execution_count": 8,
   "metadata": {},
   "outputs": [
    {
     "name": "stdout",
     "output_type": "stream",
     "text": [
      "      Account          Follows\n",
      "0  WhiteHouse       Mike_Pence\n",
      "1  WhiteHouse   KellyannePolls\n",
      "2  WhiteHouse        Scavino45\n",
      "3  WhiteHouse         PressSec\n",
      "4  WhiteHouse               VP\n",
      "5  WhiteHouse           FLOTUS\n",
      "6  WhiteHouse  realDonaldTrump\n"
     ]
    }
   ],
   "source": [
    "test2 = clean_friends_list(test)\n",
    "print(test2)"
   ]
  },
  {
   "cell_type": "markdown",
   "metadata": {},
   "source": [
    "# Cleaning data in a loop"
   ]
  },
  {
   "cell_type": "code",
   "execution_count": 10,
   "metadata": {},
   "outputs": [],
   "source": [
    "def hausputz(list_to_clean):\n",
    "    \"\"\"\n",
    "    :param list_to_clean: List of Twitter handles whose CSV files should be cleaned.\n",
    "    :returns: CSV file with all data cleaned and DataFrame with clean data.\n",
    "    \"\"\"\n",
    "    complete_data = pd.DataFrame(columns = [\"Account\", \"Follows\"])\n",
    "    for account in list_to_clean:\n",
    "        data_clean = clean_friends_list(prepare_friends_data(account))\n",
    "        complete_data = complete_data.append(data_clean, ignore_index = True)\n",
    "        print(f\"Account {account} analyzed.\")\n",
    "    complete_data.drop([0])\n",
    "    complete_data.to_csv(\"followers_complete.csv\", index = False)\n",
    "    return complete_data"
   ]
  },
  {
   "cell_type": "code",
   "execution_count": 12,
   "metadata": {},
   "outputs": [
    {
     "name": "stdout",
     "output_type": "stream",
     "text": [
      "Start time: 1607442548.4376347\n",
      "Account realDonaldTrump analyzed.\n",
      "Account WhiteHouse analyzed.\n",
      "Account TeamTrump analyzed.\n",
      "Account GOPChairwoman analyzed.\n",
      "Account DanScavino analyzed.\n",
      "Account Jim_Jordan analyzed.\n",
      "Account GOP analyzed.\n",
      "Account Scavino45 analyzed.\n",
      "Account DonaldJTrumpJr analyzed.\n",
      "Account IvankaTrump analyzed.\n",
      "Account GreggJarrett analyzed.\n",
      "Account EricTrump analyzed.\n",
      "Account TomFitton analyzed.\n",
      "Account paulsperry analyzed.\n",
      "Account RepMarkMeadows analyzed.\n",
      "Account marklevinshow analyzed.\n",
      "Account TrumpWarRoom analyzed.\n",
      "Account LindseyGrahamSC analyzed.\n",
      "Account charliekirk11 analyzed.\n",
      "Account dbongino analyzed.\n",
      "Account SenateGOP analyzed.\n",
      "Account GOPLeader analyzed.\n",
      "Account JudicialWatch analyzed.\n",
      "Account senatemajldr analyzed.\n",
      "Account foxandfriends analyzed.\n",
      "Account seanhannity analyzed.\n",
      "Account VP analyzed.\n",
      "Account SteveScalise analyzed.\n",
      "Account MZHemingway analyzed.\n",
      "Account FLOTUS analyzed.\n",
      "Account LouDobbs analyzed.\n",
      "Account DailyCaller analyzed.\n",
      "Account BuckSexton analyzed.\n",
      "Account RepAndyBiggsAZ analyzed.\n",
      "Account RepLeeZeldin analyzed.\n",
      "Account KimStrassel analyzed.\n",
      "Account Mike_Pence analyzed.\n",
      "Account MariaBartiromo analyzed.\n",
      "Account PressSec analyzed.\n",
      "Account SaraCarterDC analyzed.\n",
      "Account RepDougCollins analyzed.\n",
      "Account RepMattGaetz analyzed.\n",
      "Account NHC_Atlantic analyzed.\n",
      "Account JohnWHuber analyzed.\n",
      "Account MarshaBlackburn analyzed.\n",
      "Account AndrewCMcCarthy analyzed.\n",
      "Account RandPaul analyzed.\n",
      "Account IngrahamAngle analyzed.\n",
      "Account TVNewsHQ analyzed.\n",
      "Account jsolomonReports analyzed.\n",
      "Account CLewandowski_ analyzed.\n",
      "Account parscale analyzed.\n",
      "Account GOPoversight analyzed.\n",
      "Account ByronYork analyzed.\n",
      "Account FoxNews analyzed.\n",
      "Account GeraldoRivera analyzed.\n",
      "Account DevinNunes analyzed.\n",
      "Account BreitbartNews analyzed.\n",
      "Account SenTomCotton analyzed.\n",
      "Account dcexaminer analyzed.\n",
      "Account thebradfordfile analyzed.\n",
      "Account RNCResearch analyzed.\n",
      "Account seanmdav analyzed.\n",
      "Account JackPosobiec analyzed.\n",
      "Account CDCgov analyzed.\n",
      "Account marcorubio analyzed.\n",
      "Account Lrihendry analyzed.\n",
      "Account SenTedCruz analyzed.\n",
      "Account thehill analyzed.\n",
      "Account PollWatch2020 analyzed.\n",
      "Account OANN analyzed.\n",
      "Account DavidJHarrisJr analyzed.\n",
      "Account JennaEllisEsq analyzed.\n",
      "Account NRA analyzed.\n",
      "Account Varneyco analyzed.\n",
      "Account kayleighmcenany analyzed.\n",
      "Account RudyGiuliani analyzed.\n",
      "Account hughhewitt analyzed.\n",
      "Account JesseBWatters analyzed.\n",
      "Account HouseGOP analyzed.\n",
      "Account RealJamesWoods analyzed.\n",
      "Account fema analyzed.\n",
      "Account KatrinaPierson analyzed.\n",
      "Account SenJohnBarrasso analyzed.\n",
      "Account ericbolling analyzed.\n",
      "Account HawleyMO analyzed.\n",
      "Account thejtlewis analyzed.\n",
      "Account TimMurtaugh analyzed.\n",
      "Account RichardGrenell analyzed.\n",
      "Account tedcruz analyzed.\n",
      "Account bennyjohnson analyzed.\n",
      "Account TheRightMelissa analyzed.\n",
      "Account KellyannePolls analyzed.\n",
      "Account SenRonJohnson analyzed.\n",
      "Account SenThomTillis analyzed.\n",
      "Account EliseStefanik analyzed.\n",
      "Account brithume analyzed.\n",
      "Account ChuckGrassley analyzed.\n",
      "Finishing time: 1607444559.6717932\n",
      "Time for execution (sec.): 2011.2341585159302\n"
     ]
    }
   ],
   "source": [
    "# Determine start time:\n",
    "start_time = time.time()\n",
    "print(\"Start time: \" + str(start_time))\n",
    "\n",
    "all_friends = hausputz(top100)\n",
    "\n",
    "# Detrmine end time and time needed for execution:\n",
    "print(\"Finishing time: \" + str(time.time()))\n",
    "print(\"Time for execution (sec.): \" + str(time.time() - start_time))"
   ]
  },
  {
   "cell_type": "markdown",
   "metadata": {},
   "source": [
    "Ausführungszeit: 2011.23 Sekunden (ca. 33 Minuten)."
   ]
  },
  {
   "cell_type": "code",
   "execution_count": 13,
   "metadata": {},
   "outputs": [
    {
     "data": {
      "text/html": [
       "<div>\n",
       "<style scoped>\n",
       "    .dataframe tbody tr th:only-of-type {\n",
       "        vertical-align: middle;\n",
       "    }\n",
       "\n",
       "    .dataframe tbody tr th {\n",
       "        vertical-align: top;\n",
       "    }\n",
       "\n",
       "    .dataframe thead th {\n",
       "        text-align: right;\n",
       "    }\n",
       "</style>\n",
       "<table border=\"1\" class=\"dataframe\">\n",
       "  <thead>\n",
       "    <tr style=\"text-align: right;\">\n",
       "      <th></th>\n",
       "      <th>Account</th>\n",
       "      <th>Follows</th>\n",
       "    </tr>\n",
       "  </thead>\n",
       "  <tbody>\n",
       "    <tr>\n",
       "      <th>0</th>\n",
       "      <td>realDonaldTrump</td>\n",
       "      <td>LouDobbs</td>\n",
       "    </tr>\n",
       "    <tr>\n",
       "      <th>1</th>\n",
       "      <td>realDonaldTrump</td>\n",
       "      <td>GOPLeader</td>\n",
       "    </tr>\n",
       "    <tr>\n",
       "      <th>2</th>\n",
       "      <td>realDonaldTrump</td>\n",
       "      <td>senatemajldr</td>\n",
       "    </tr>\n",
       "    <tr>\n",
       "      <th>3</th>\n",
       "      <td>realDonaldTrump</td>\n",
       "      <td>Jim_Jordan</td>\n",
       "    </tr>\n",
       "    <tr>\n",
       "      <th>4</th>\n",
       "      <td>realDonaldTrump</td>\n",
       "      <td>MariaBartiromo</td>\n",
       "    </tr>\n",
       "    <tr>\n",
       "      <th>...</th>\n",
       "      <td>...</td>\n",
       "      <td>...</td>\n",
       "    </tr>\n",
       "    <tr>\n",
       "      <th>4597</th>\n",
       "      <td>ChuckGrassley</td>\n",
       "      <td>LouDobbs</td>\n",
       "    </tr>\n",
       "    <tr>\n",
       "      <th>4598</th>\n",
       "      <td>ChuckGrassley</td>\n",
       "      <td>HouseGOP</td>\n",
       "    </tr>\n",
       "    <tr>\n",
       "      <th>4599</th>\n",
       "      <td>ChuckGrassley</td>\n",
       "      <td>GOPoversight</td>\n",
       "    </tr>\n",
       "    <tr>\n",
       "      <th>4600</th>\n",
       "      <td>ChuckGrassley</td>\n",
       "      <td>SenateGOP</td>\n",
       "    </tr>\n",
       "    <tr>\n",
       "      <th>4601</th>\n",
       "      <td>ChuckGrassley</td>\n",
       "      <td>GOP</td>\n",
       "    </tr>\n",
       "  </tbody>\n",
       "</table>\n",
       "<p>4602 rows × 2 columns</p>\n",
       "</div>"
      ],
      "text/plain": [
       "              Account         Follows\n",
       "0     realDonaldTrump        LouDobbs\n",
       "1     realDonaldTrump       GOPLeader\n",
       "2     realDonaldTrump    senatemajldr\n",
       "3     realDonaldTrump      Jim_Jordan\n",
       "4     realDonaldTrump  MariaBartiromo\n",
       "...               ...             ...\n",
       "4597    ChuckGrassley        LouDobbs\n",
       "4598    ChuckGrassley        HouseGOP\n",
       "4599    ChuckGrassley    GOPoversight\n",
       "4600    ChuckGrassley       SenateGOP\n",
       "4601    ChuckGrassley             GOP\n",
       "\n",
       "[4602 rows x 2 columns]"
      ]
     },
     "execution_count": 13,
     "metadata": {},
     "output_type": "execute_result"
    }
   ],
   "source": [
    "all_friends"
   ]
  }
 ],
 "metadata": {
  "kernelspec": {
   "display_name": "Python 3",
   "language": "python",
   "name": "python3"
  },
  "language_info": {
   "codemirror_mode": {
    "name": "ipython",
    "version": 3
   },
   "file_extension": ".py",
   "mimetype": "text/x-python",
   "name": "python",
   "nbconvert_exporter": "python",
   "pygments_lexer": "ipython3",
   "version": "3.7.9"
  }
 },
 "nbformat": 4,
 "nbformat_minor": 4
}
