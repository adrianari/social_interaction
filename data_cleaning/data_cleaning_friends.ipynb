{
 "cells": [
  {
   "cell_type": "markdown",
   "metadata": {},
   "source": [
    "# Setting up the functions for data cleaning"
   ]
  },
  {
   "cell_type": "code",
   "execution_count": null,
   "metadata": {},
   "outputs": [],
   "source": [
    "import pandas as pd\n",
    "import time"
   ]
  },
  {
   "cell_type": "code",
   "execution_count": null,
   "metadata": {},
   "outputs": [],
   "source": [
    "# Setup Top 100 list for comparison:\n",
    "\n",
    "top100 = [\"realDonaldTrump\", \"WhiteHouse\", \"TeamTrump\", \"GOPChairwoman\", \"DanScavino\", \"Jim_Jordan\", \"GOP\", \"Scavino45\", \"DonaldJTrumpJr\",\n",
    "          \"IvankaTrump\", \"GreggJarrett\", \"EricTrump\", \"TomFitton\", \"paulsperry\", \"RepMarkMeadows\", \"marklevinshow\", \"TrumpWarRoom\",\n",
    "          \"LindseyGrahamSC\", \"charliekirk11\", \"dbongino\", \"SenateGOP\", \"GOPLeader\", \"JudicialWatch\", \"senatemajldr\", \"foxandfriends\",\n",
    "          \"seanhannity\", \"VP\", \"SteveScalise\", \"MZHemingway\", \"FLOTUS\", \"LouDobbs\", \"DailyCaller\", \"BuckSexton\", \"RepAndyBiggsAZ\", \"RepLeeZeldin\",\n",
    "          \"KimStrassel\", \"Mike_Pence\", \"MariaBartiromo\", \"PressSec\", \"SaraCarterDC\", \"RepDougCollins\", \"RepMattGaetz\", \"NHC_Atlantic\",\n",
    "          \"JohnWHuber\", \"MarshaBlackburn\", \"AndrewCMcCarthy\", \"RandPaul\", \"IngrahamAngle\", \"TVNewsHQ\", \"jsolomonReports\",\n",
    "          \"CLewandowski_\", \"parscale\", \"GOPoversight\", \"ByronYork\", \"FoxNews\", \"GeraldoRivera\", \"DevinNunes\", \"BreitbartNews\", \"SenTomCotton\",\n",
    "          \"dcexaminer\", \"thebradfordfile\", \"RNCResearch\", \"seanmdav\", \"JackPosobiec\", \"CDCgov\", \"marcorubio\", \"Lrihendry\",\n",
    "          \"SenTedCruz\", \"thehill\", \"PollWatch2020\", \"OANN\", \"DavidJHarrisJr\", \"JennaEllisEsq\", \"NRA\", \"Varneyco\", \"kayleighmcenany\", \"RudyGiuliani\",\n",
    "          \"hughhewitt\", \"JesseBWatters\", \"HouseGOP\", \"RealJamesWoods\", \"fema\", \"KatrinaPierson\", \"SenJohnBarrasso\", \"ericbolling\", \"HawleyMO\",\n",
    "          \"thejtlewis\", \"TimMurtaugh\", \"RichardGrenell\", \"tedcruz\", \"bennyjohnson\", \"TheRightMelissa\", \"KellyannePolls\", \"SenRonJohnson\",\n",
    "          \"SenThomTillis\", \"EliseStefanik\", \"brithume\", \"ChuckGrassley\"]"
   ]
  },
  {
   "cell_type": "markdown",
   "metadata": {},
   "source": [
    "There are only 98 followers compared to the 100 accounts above:\n",
    "\n",
    "* One account is private\n",
    "* Mike Pence's account shows up twice. Until 2016, his handle was `mike_pence`, since 2016 it's `Mike_Pence`. Twitter does not differentiate between uppercase and lowercase letters, hence it is the same account."
   ]
  },
  {
   "cell_type": "markdown",
   "metadata": {},
   "source": [
    "The following function prepares the data in a way that it can be matched against followers later:"
   ]
  },
  {
   "cell_type": "code",
   "execution_count": null,
   "metadata": {},
   "outputs": [],
   "source": [
    "def prepare_friends_data(filename):\n",
    "    \"\"\"\n",
    "    :param filename: Twitter-handle used in the filenames\n",
    "    :returns: DataFrame with clean columns\n",
    "    \"\"\"\n",
    "    data = pd.read_csv(f\"friends/{filename}_friends.csv\")\n",
    "\n",
    "    # Insert Column 1 and fill with the respective account name:\n",
    "    data.insert(0, \"Account\", f\"{filename}\")\n",
    "\n",
    "    # Rename columns:\n",
    "    data.columns = [\"Account\", \"Follows\"]\n",
    "    return data"
   ]
  },
  {
   "cell_type": "markdown",
   "metadata": {},
   "source": [
    "The following function checks if the accounts in the data frame are also part of the top 100 list and drops all others. The output is a data frame with the following structure:\n",
    "\n",
    "```\n",
    "+-------------------------+\n",
    "| Account      | Follows  |\n",
    "+--------------+----------+\n",
    "| Account-Name | Friend 1 |\n",
    "| Account-Name | Friend 2 |\n",
    "| Account-Name | Friend 3 |\n",
    "| ...          | ...      |\n",
    "+--------------+----------+\n",
    "```"
   ]
  },
  {
   "cell_type": "code",
   "execution_count": null,
   "metadata": {},
   "outputs": [],
   "source": [
    "def clean_friends_list(data):\n",
    "    \"\"\"\n",
    "    :param data: Clean data set as obtained from function prepare_friends_data()\n",
    "    :returns: DataFrame which only contains Friends accounts that appear in the top100 list\n",
    "    \"\"\"\n",
    "    for index, row in data.iterrows():\n",
    "        if row[\"Follows\"] not in top100:\n",
    "            data.drop(index, inplace = True)\n",
    "    data.reset_index(inplace = True, drop = True)\n",
    "    return data"
   ]
  },
  {
   "cell_type": "markdown",
   "metadata": {},
   "source": [
    "### Testing the functions:"
   ]
  },
  {
   "cell_type": "code",
   "execution_count": null,
   "metadata": {},
   "outputs": [],
   "source": [
    "test = prepare_friends_data(\"WhiteHouse\")\n",
    "print(test)"
   ]
  },
  {
   "cell_type": "code",
   "execution_count": null,
   "metadata": {},
   "outputs": [],
   "source": [
    "test2 = clean_friends_list(test)\n",
    "print(test2)"
   ]
  },
  {
   "cell_type": "markdown",
   "metadata": {},
   "source": [
    "# Cleaning the data in a loop"
   ]
  },
  {
   "cell_type": "markdown",
   "metadata": {},
   "source": [
    "The following function automatically cleans all CSV files in the *friends* folder and creates a \"friends\" list for each account. The results for all accounts are written to a file called `followers_complete.csv`.\n",
    "\n",
    "**Info:** The run to clean all data sets took 2011.23 seconds (approx. 33 Minutes)."
   ]
  },
  {
   "cell_type": "code",
   "execution_count": null,
   "metadata": {},
   "outputs": [],
   "source": [
    "def hausputz(list_to_clean):\n",
    "    \"\"\"\n",
    "    :param list_to_clean: List of Twitter handles whose CSV files should be cleaned.\n",
    "    :returns: CSV file with all data cleaned and DataFrame with clean data.\n",
    "    \"\"\"\n",
    "    complete_data = pd.DataFrame(columns = [\"Account\", \"Follows\"])\n",
    "    for account in list_to_clean:\n",
    "        data_clean = clean_friends_list(prepare_friends_data(account))\n",
    "        complete_data = complete_data.append(data_clean, ignore_index = True)\n",
    "        print(f\"Account {account} analyzed.\")\n",
    "    complete_data.drop([0])\n",
    "    complete_data.to_csv(\"followers_complete.csv\", index = False)\n",
    "    return complete_data"
   ]
  },
  {
   "cell_type": "code",
   "execution_count": null,
   "metadata": {},
   "outputs": [],
   "source": [
    "# Determine start time:\n",
    "start_time = time.time()\n",
    "print(\"Start time: \" + str(start_time))\n",
    "\n",
    "all_friends = hausputz(top100)\n",
    "\n",
    "# Detrmine end time and time needed for execution:\n",
    "print(\"Finishing time: \" + str(time.time()))\n",
    "print(\"Time for execution (sec.): \" + str(time.time() - start_time))"
   ]
  },
  {
   "cell_type": "code",
   "execution_count": null,
   "metadata": {},
   "outputs": [],
   "source": [
    "all_friends"
   ]
  }
 ],
 "metadata": {
  "kernelspec": {
   "display_name": "Python 3",
   "language": "python",
   "name": "python3"
  },
  "language_info": {
   "codemirror_mode": {
    "name": "ipython",
    "version": 3
   },
   "file_extension": ".py",
   "mimetype": "text/x-python",
   "name": "python",
   "nbconvert_exporter": "python",
   "pygments_lexer": "ipython3",
   "version": "3.7.9"
  }
 },
 "nbformat": 4,
 "nbformat_minor": 4
}
