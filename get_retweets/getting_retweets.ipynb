{
 "cells": [
  {
   "cell_type": "markdown",
   "metadata": {},
   "source": [
    "<a id=\"top\"></a>\n",
    "# Überschrift\n",
    "\n",
    "<a href=\"#datenaufbereitung\">1. Datenaufbereitung & Filtern der geretweeteten Accountnamen</a> </br>\n",
    "<a href=\"#zaehlen-retweets\">2. Zählen der Retweets in einem Testdatensatz</a> </br>\n",
    "<a href=\"#komplett\">3. Kompletter Datensatz</a>\n",
    "\n"
   ]
  },
  {
   "cell_type": "markdown",
   "metadata": {},
   "source": [
    "<a id=\"datenaufbereitung\"></a>\n",
    "## 1. Datenaufbereitung & Filtern der geretweeteten Accountnamen\n",
    "\n",
    "Zunächst werden aus dem Datensatz alle Accountnamen gefiltert, die retweeted wurden."
   ]
  },
  {
   "cell_type": "code",
   "execution_count": 1,
   "metadata": {},
   "outputs": [],
   "source": [
    "import pandas as pd\n",
    "import re\n",
    "\n",
    "# Datenaufbereitung: Reduzieren der Daten auf die Twitter-Handles\n",
    "\n",
    "# 1. Daten einlesen\n",
    "trump_twitter = pd.read_csv(\"data/trump_twitter_2009-2020.csv\", sep=\",\")"
   ]
  },
  {
   "cell_type": "code",
   "execution_count": 2,
   "metadata": {},
   "outputs": [],
   "source": [
    "# 2. Filtern der Zeilen mit Retweets (is_retweet == True)\n",
    "retweets = trump_twitter[trump_twitter[\"isRetweet\"] == \"t\"]"
   ]
  },
  {
   "cell_type": "code",
   "execution_count": 3,
   "metadata": {},
   "outputs": [],
   "source": [
    "# 3. Drop aller Spalten ausser dem Tweet-Text und Reindexing00 der Spalten:\n",
    "handles = retweets.drop([\"id\", \"isRetweet\", \"isDeleted\", \"device\", \"favorites\", \"retweets\", \"date\"], axis=1)\n",
    "handles = handles.reset_index()\n",
    "handles = handles.drop(\"index\", axis=1)"
   ]
  },
  {
   "cell_type": "code",
   "execution_count": 4,
   "metadata": {},
   "outputs": [
    {
     "data": {
      "text/plain": [
       "9335"
      ]
     },
     "execution_count": 4,
     "metadata": {},
     "output_type": "execute_result"
    }
   ],
   "source": [
    "# 4. Herausfiltern der Handles\n",
    "retweeted_accounts = []\n",
    "\n",
    "for index, row in handles.iterrows():\n",
    "    # print(re.search(r'(@)\\w+', str(row)).group())\n",
    "    account = re.search(r'(@)\\w+', str(row)).group()\n",
    "    retweeted_accounts.append(account)\n",
    "\n",
    "len(retweeted_accounts)"
   ]
  },
  {
   "cell_type": "markdown",
   "metadata": {},
   "source": [
    "<a href=\"#top\">$\\uparrow$ Top</a>"
   ]
  },
  {
   "cell_type": "markdown",
   "metadata": {},
   "source": [
    "<a id=\"zaehlen-retweets\"></a>\n",
    "## 2. Zählen der Retweets in einem Testdatensatz\n",
    "\n",
    "**Filter der Testdaten**: Erstellen eines Testdatensatzes mit den ersten 20 Account, die geretweeted wurden"
   ]
  },
  {
   "cell_type": "code",
   "execution_count": 5,
   "metadata": {},
   "outputs": [
    {
     "data": {
      "text/plain": [
       "['@CBS_Herridge',\n",
       " '@MZHemingway',\n",
       " '@WhiteHouse',\n",
       " '@EricTrump',\n",
       " '@GOPChairwoman',\n",
       " '@TomFitton',\n",
       " '@marklevinshow',\n",
       " '@RealRLimbaugh',\n",
       " '@TheRightMelissa',\n",
       " '@megynkelly',\n",
       " '@DanScavino',\n",
       " '@chefjclark',\n",
       " '@TeamTrump',\n",
       " '@NRA',\n",
       " '@dbongino',\n",
       " '@dbongino',\n",
       " '@HeyTammyBruce',\n",
       " '@HeyTammyBruce',\n",
       " '@LeeSmithDC',\n",
       " '@ArthurSchwartz']"
      ]
     },
     "execution_count": 5,
     "metadata": {},
     "output_type": "execute_result"
    }
   ],
   "source": [
    "testdata = retweeted_accounts[:20]\n",
    "testdata"
   ]
  },
  {
   "cell_type": "markdown",
   "metadata": {},
   "source": [
    "**Zählen der Anzahl Retweets**: Dieser Loop prüft, ob ein Account-Name im Dictionary in der Liste des keys `account_name` bereits vorhanden ist. Ist das nicht der Fall wird der Account der Liste hinzugefügt und der Liste des Keys `retweet_count` der Wert 1. Ist der Name bereits in `account_name` vorhanden, wird die Zahl an der entsprechenden Stelle der Liste `retweet_count` um 1 erhöht. "
   ]
  },
  {
   "cell_type": "code",
   "execution_count": 9,
   "metadata": {},
   "outputs": [
    {
     "data": {
      "text/plain": [
       "{'account_name': ['@CBS_Herridge',\n",
       "  '@MZHemingway',\n",
       "  '@WhiteHouse',\n",
       "  '@EricTrump',\n",
       "  '@GOPChairwoman',\n",
       "  '@TomFitton',\n",
       "  '@marklevinshow',\n",
       "  '@RealRLimbaugh',\n",
       "  '@TheRightMelissa',\n",
       "  '@megynkelly',\n",
       "  '@DanScavino',\n",
       "  '@chefjclark',\n",
       "  '@TeamTrump',\n",
       "  '@NRA',\n",
       "  '@dbongino',\n",
       "  '@HeyTammyBruce',\n",
       "  '@LeeSmithDC',\n",
       "  '@ArthurSchwartz'],\n",
       " 'retweet_count': [1, 1, 1, 1, 1, 1, 1, 1, 1, 1, 1, 1, 1, 1, 2, 2, 1, 1]}"
      ]
     },
     "execution_count": 9,
     "metadata": {},
     "output_type": "execute_result"
    }
   ],
   "source": [
    "retweet_counter = {\"account_name\": [], \"retweet_count\": []}\n",
    "\n",
    "for account in testdata:\n",
    "    if account not in retweet_counter[\"account_name\"]:\n",
    "        retweet_counter[\"account_name\"].append(account)\n",
    "        retweet_counter[\"retweet_count\"].append(1)\n",
    "    else:\n",
    "        account_position = retweet_counter[\"account_name\"].index(account)\n",
    "        retweet_counter[\"retweet_count\"][account_position] += 1\n",
    "        \n",
    "retweet_counter"
   ]
  },
  {
   "cell_type": "markdown",
   "metadata": {},
   "source": [
    "**Prüfen, ob das funktioniert**: Beide Listen (`account_name` und `retweet_count` sollten 18 Elemente enthalten, da 2 Accounts 2 mal geretweetet wurden."
   ]
  },
  {
   "cell_type": "code",
   "execution_count": 10,
   "metadata": {},
   "outputs": [
    {
     "name": "stdout",
     "output_type": "stream",
     "text": [
      "18\n",
      "18\n"
     ]
    }
   ],
   "source": [
    "print(len(retweet_counter[\"account_name\"]))\n",
    "print(len(retweet_counter[\"retweet_count\"]))"
   ]
  },
  {
   "cell_type": "markdown",
   "metadata": {},
   "source": [
    "Zusammenführen der beiden Listen im Dictionary oben in einzelne Dictionaries für jeden Account $\\rightarrow$ damit ist klar, welche key-value-Paare zusammengehören und wie oft ein Account retweeted wurde, ausserdem können die dictionaries einfach sortiert werden."
   ]
  },
  {
   "cell_type": "code",
   "execution_count": 33,
   "metadata": {},
   "outputs": [
    {
     "data": {
      "text/plain": [
       "{'@CBS_Herridge': 1,\n",
       " '@MZHemingway': 1,\n",
       " '@WhiteHouse': 1,\n",
       " '@EricTrump': 1,\n",
       " '@GOPChairwoman': 1,\n",
       " '@TomFitton': 1,\n",
       " '@marklevinshow': 1,\n",
       " '@RealRLimbaugh': 1,\n",
       " '@TheRightMelissa': 1,\n",
       " '@megynkelly': 1,\n",
       " '@DanScavino': 1,\n",
       " '@chefjclark': 1,\n",
       " '@TeamTrump': 1,\n",
       " '@NRA': 1,\n",
       " '@dbongino': 2,\n",
       " '@HeyTammyBruce': 2,\n",
       " '@LeeSmithDC': 1,\n",
       " '@ArthurSchwartz': 1}"
      ]
     },
     "execution_count": 33,
     "metadata": {},
     "output_type": "execute_result"
    }
   ],
   "source": [
    "number_of_retweets = {retweet_counter[\"account_name\"][i]: retweet_counter[\"retweet_count\"][i] for i in range(len(retweet_counter[\"account_name\"]))}\n",
    "number_of_retweets"
   ]
  },
  {
   "cell_type": "markdown",
   "metadata": {},
   "source": [
    "**Absteigend sortieren nach Anzahl Retweets:**"
   ]
  },
  {
   "cell_type": "code",
   "execution_count": 38,
   "metadata": {},
   "outputs": [
    {
     "data": {
      "text/plain": [
       "[('@dbongino', 2),\n",
       " ('@HeyTammyBruce', 2),\n",
       " ('@CBS_Herridge', 1),\n",
       " ('@MZHemingway', 1),\n",
       " ('@WhiteHouse', 1),\n",
       " ('@EricTrump', 1),\n",
       " ('@GOPChairwoman', 1),\n",
       " ('@TomFitton', 1),\n",
       " ('@marklevinshow', 1),\n",
       " ('@RealRLimbaugh', 1),\n",
       " ('@TheRightMelissa', 1),\n",
       " ('@megynkelly', 1),\n",
       " ('@DanScavino', 1),\n",
       " ('@chefjclark', 1),\n",
       " ('@TeamTrump', 1),\n",
       " ('@NRA', 1),\n",
       " ('@LeeSmithDC', 1),\n",
       " ('@ArthurSchwartz', 1)]"
      ]
     },
     "execution_count": 38,
     "metadata": {},
     "output_type": "execute_result"
    }
   ],
   "source": [
    "sorted_rt = sorted(number_of_retweets.items(), key = lambda kv: kv[1], reverse = True)\n",
    "sorted_rt"
   ]
  },
  {
   "cell_type": "code",
   "execution_count": 37,
   "metadata": {},
   "outputs": [
    {
     "data": {
      "text/plain": [
       "18"
      ]
     },
     "execution_count": 37,
     "metadata": {},
     "output_type": "execute_result"
    }
   ],
   "source": [
    "len(sorted_rt)"
   ]
  },
  {
   "cell_type": "markdown",
   "metadata": {},
   "source": [
    "<a href=\"#top\">$\\uparrow$ Top</a>"
   ]
  },
  {
   "cell_type": "markdown",
   "metadata": {},
   "source": [
    "<a id=\"komplett\"></a>\n",
    "## 3. Kompletter Datensatz\n",
    "\n",
    "Hier ist alles in einem Codeblock zusammengefasst und die Datenaufbereitung/Filterung und das Zusammenfassen der Accounts und Retweets ist in Funktionen verpackt."
   ]
  },
  {
   "cell_type": "code",
   "execution_count": 64,
   "metadata": {},
   "outputs": [],
   "source": [
    "import pandas as pd\n",
    "import re\n",
    "\n",
    "\n",
    "# Read data:\n",
    "data = pd.read_csv(\"data/trump_twitter_2009-2020.csv\", sep=\",\")\n",
    "\n",
    "\n",
    "def get_retweeted_accounts(trump_twitter):\n",
    "    \"\"\"Returns a list of every twitter account DT ever retweeted\"\"\"\n",
    "    \n",
    "    # Filter rows with retweets only:\n",
    "    retweets = trump_twitter[trump_twitter[\"isRetweet\"] == \"t\"]\n",
    "    \n",
    "    # Drop all columns except \"text\" and reindex column:\n",
    "    handles = retweets.drop([\"id\", \"isRetweet\", \"isDeleted\", \"device\", \"favorites\", \"retweets\", \"date\"], axis=1)\n",
    "    handles = handles.reset_index()\n",
    "    handles = handles.drop(\"index\", axis=1)\n",
    "    \n",
    "    # Filter the account handles with regex:\n",
    "    retweeted_accounts = []\n",
    "\n",
    "    for index, row in handles.iterrows():\n",
    "        account = re.search(r'(@)\\w+', str(row)).group()\n",
    "        retweeted_accounts.append(account)\n",
    "    \n",
    "    return retweeted_accounts\n",
    "\n",
    "\n",
    "def get_number_of_retweets(tweets):\n",
    "    \"\"\"Returns a list of accounts, sorted by number of retweets.\"\"\"\n",
    "    \n",
    "    # Empty dicts, later used for list concatenation:\n",
    "    retweet_counter = {\"account_name\": [], \"retweet_count\": []}\n",
    "    \n",
    "    # Fill the lists in the dict with the respective values:\n",
    "    for account in tweets:\n",
    "        if account not in retweet_counter[\"account_name\"]:\n",
    "            retweet_counter[\"account_name\"].append(account)\n",
    "            retweet_counter[\"retweet_count\"].append(1)\n",
    "        else:\n",
    "            account_position = retweet_counter[\"account_name\"].index(account)\n",
    "            retweet_counter[\"retweet_count\"][account_position] += 1\n",
    "    \n",
    "    # Concatenate the lists in the retweet_counter dict, return single dictionary:\n",
    "    retweets_pairing = {retweet_counter[\"account_name\"][i]:\n",
    "                        retweet_counter[\"retweet_count\"][i]\n",
    "                        for i in range(len(retweet_counter[\"account_name\"]))}\n",
    "    \n",
    "    # Sort the key-value-pairs in the retweets_pairing dictionary in descending order: \n",
    "    retweets_sorted = sorted(retweets_pairing.items(), key = lambda kv: kv[1], reverse = True)\n",
    "    \n",
    "    # Return the sorted values:\n",
    "    return retweets_sorted"
   ]
  },
  {
   "cell_type": "markdown",
   "metadata": {},
   "source": [
    "Beide Funktionen können verschachtelt werden:"
   ]
  },
  {
   "cell_type": "code",
   "execution_count": 73,
   "metadata": {},
   "outputs": [],
   "source": [
    "all_retweets = get_number_of_retweets(get_retweeted_accounts(data))"
   ]
  },
  {
   "cell_type": "markdown",
   "metadata": {},
   "source": [
    "**Die Top 100 ist...**"
   ]
  },
  {
   "cell_type": "code",
   "execution_count": 75,
   "metadata": {},
   "outputs": [
    {
     "data": {
      "text/plain": [
       "[('@realDonaldTrump', 918),\n",
       " ('@WhiteHouse', 655),\n",
       " ('@TeamTrump', 273),\n",
       " ('@GOPChairwoman', 211),\n",
       " ('@DanScavino', 145),\n",
       " ('@Jim_Jordan', 136),\n",
       " ('@GOP', 132),\n",
       " ('@Scavino45', 114),\n",
       " ('@DonaldJTrumpJr', 113),\n",
       " ('@IvankaTrump', 105),\n",
       " ('@GreggJarrett', 104),\n",
       " ('@EricTrump', 94),\n",
       " ('@TomFitton', 94),\n",
       " ('@paulsperry_', 85),\n",
       " ('@RepMarkMeadows', 80),\n",
       " ('@marklevinshow', 78),\n",
       " ('@TrumpWarRoom', 73),\n",
       " ('@LindseyGrahamSC', 72),\n",
       " ('@charliekirk11', 70),\n",
       " ('@dbongino', 69),\n",
       " ('@SenateGOP', 68),\n",
       " ('@GOPLeader', 66),\n",
       " ('@JudicialWatch', 59),\n",
       " ('@senatemajldr', 57),\n",
       " ('@foxandfriends', 56),\n",
       " ('@seanhannity', 55),\n",
       " ('@VP', 55),\n",
       " ('@SteveScalise', 53),\n",
       " ('@MZHemingway', 52),\n",
       " ('@FLOTUS', 52),\n",
       " ('@LouDobbs', 48),\n",
       " ('@DailyCaller', 46),\n",
       " ('@BuckSexton', 45),\n",
       " ('@RepAndyBiggsAZ', 45),\n",
       " ('@RepLeeZeldin', 45),\n",
       " ('@KimStrassel', 42),\n",
       " ('@Mike_Pence', 41),\n",
       " ('@MariaBartiromo', 41),\n",
       " ('@PressSec', 39),\n",
       " ('@SaraCarterDC', 38),\n",
       " ('@RepDougCollins', 38),\n",
       " ('@RepMattGaetz', 37),\n",
       " ('@NHC_Atlantic', 37),\n",
       " ('@JohnWHuber', 34),\n",
       " ('@MarshaBlackburn', 33),\n",
       " ('@AndrewCMcCarthy', 31),\n",
       " ('@RandPaul', 30),\n",
       " ('@IngrahamAngle', 30),\n",
       " ('@TVNewsHQ', 30),\n",
       " ('@mike_pence', 30),\n",
       " ('@jsolomonReports', 29),\n",
       " ('@CLewandowski_', 27),\n",
       " ('@parscale', 27),\n",
       " ('@GOPoversight', 27),\n",
       " ('@ByronYork', 26),\n",
       " ('@FoxNews', 26),\n",
       " ('@GeraldoRivera', 25),\n",
       " ('@DevinNunes', 25),\n",
       " ('@BreitbartNews', 25),\n",
       " ('@SenTomCotton', 24),\n",
       " ('@dcexaminer', 24),\n",
       " ('@thebradfordfile', 24),\n",
       " ('@RNCResearch', 24),\n",
       " ('@DRUDGE_REPORT', 24),\n",
       " ('@seanmdav', 23),\n",
       " ('@JackPosobiec', 23),\n",
       " ('@CDCgov', 23),\n",
       " ('@marcorubio', 23),\n",
       " ('@Lrihendry', 23),\n",
       " ('@SenTedCruz', 22),\n",
       " ('@thehill', 22),\n",
       " ('@PollWatch2020', 22),\n",
       " ('@OANN', 21),\n",
       " ('@DavidJHarrisJr', 20),\n",
       " ('@JennaEllisEsq', 20),\n",
       " ('@NRA', 19),\n",
       " ('@Varneyco', 19),\n",
       " ('@kayleighmcenany', 19),\n",
       " ('@RudyGiuliani', 19),\n",
       " ('@hughhewitt', 19),\n",
       " ('@JesseBWatters', 19),\n",
       " ('@HouseGOP', 18),\n",
       " ('@RealJamesWoods', 18),\n",
       " ('@fema', 18),\n",
       " ('@KatrinaPierson', 17),\n",
       " ('@SenJohnBarrasso', 17),\n",
       " ('@ericbolling', 17),\n",
       " ('@HawleyMO', 17),\n",
       " ('@thejtlewis', 16),\n",
       " ('@TimMurtaugh', 16),\n",
       " ('@RichardGrenell', 16),\n",
       " ('@tedcruz', 16),\n",
       " ('@bennyjohnson', 16),\n",
       " ('@TheRightMelissa', 15),\n",
       " ('@KellyannePolls', 15),\n",
       " ('@SenRonJohnson', 15),\n",
       " ('@SenThomTillis', 15),\n",
       " ('@EliseStefanik', 15),\n",
       " ('@brithume', 15),\n",
       " ('@ChuckGrassley', 15)]"
      ]
     },
     "execution_count": 75,
     "metadata": {},
     "output_type": "execute_result"
    }
   ],
   "source": [
    "top100 = all_retweets[:100]\n",
    "top100"
   ]
  },
  {
   "cell_type": "markdown",
   "metadata": {},
   "source": [
    "<a href=\"#top\">$\\uparrow$ Top</a>"
   ]
  }
 ],
 "metadata": {
  "kernelspec": {
   "display_name": "Python 3",
   "language": "python",
   "name": "python3"
  },
  "language_info": {
   "codemirror_mode": {
    "name": "ipython",
    "version": 3
   },
   "file_extension": ".py",
   "mimetype": "text/x-python",
   "name": "python",
   "nbconvert_exporter": "python",
   "pygments_lexer": "ipython3",
   "version": "3.7.9"
  }
 },
 "nbformat": 4,
 "nbformat_minor": 4
}
